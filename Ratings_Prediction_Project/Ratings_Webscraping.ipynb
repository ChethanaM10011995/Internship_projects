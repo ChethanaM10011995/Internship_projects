{
 "cells": [
  {
   "cell_type": "code",
   "execution_count": 1,
   "id": "20381b3d",
   "metadata": {},
   "outputs": [],
   "source": [
    "import selenium\n",
    "import pandas as pd\n",
    "from selenium import webdriver\n",
    "import warnings\n",
    "warnings.filterwarnings('ignore')\n",
    "from selenium.webdriver.common.by import By\n",
    "import time\n",
    "from selenium.common.exceptions import NoSuchElementException\n",
    "from selenium.webdriver.support.ui import WebDriverWait\n",
    "from selenium.webdriver.common.by import By\n",
    "from selenium.webdriver.support import expected_conditions as EC"
   ]
  },
  {
   "cell_type": "code",
   "execution_count": 2,
   "id": "6834726c",
   "metadata": {},
   "outputs": [],
   "source": [
    "driver=webdriver.Chrome(r\"C:\\Users\\91994\\Desktop\\DRiver\\chromedriver.exe\")"
   ]
  },
  {
   "cell_type": "code",
   "execution_count": 3,
   "id": "1b7ca51a",
   "metadata": {},
   "outputs": [],
   "source": [
    "driver.get('https://www.amazon.in/ASUS-VivoBook-Integrated-Graphics-M415DA-EK322TS/product-reviews/B09DX9ML9D/ref=cm_cr_dp_d_show_all_btm?ie=UTF8&reviewerType=all_reviews')"
   ]
  },
  {
   "cell_type": "code",
   "execution_count": 4,
   "id": "40c20dba",
   "metadata": {},
   "outputs": [],
   "source": [
    "Review=[]\n",
    "Rating=[]\n",
    "start=0\n",
    "end=5\n",
    "for page in range(start,end):\n",
    "    review=driver.find_elements(By.XPATH,'//span[@data-hook=\"review-body\"]')\n",
    "    for i in review:\n",
    "        Review.append(i.text)\n",
    "    lst_of_ratings = driver.find_elements(By.CLASS_NAME, \"review-rating\")\n",
    "    for value in lst_of_ratings[2:]:\n",
    "        rating = value.get_attribute('textContent')\n",
    "        Rating.append(rating)\n",
    "    driver.find_element(By.XPATH,\".//*[contains(text(),'Next page')]\").click()\n",
    "    time.sleep(3)"
   ]
  },
  {
   "cell_type": "code",
   "execution_count": 5,
   "id": "64d42b14",
   "metadata": {},
   "outputs": [],
   "source": [
    "Ratings=[item.split('.',1)[0] for item in Rating]"
   ]
  },
  {
   "cell_type": "code",
   "execution_count": 6,
   "id": "cf763995",
   "metadata": {},
   "outputs": [
    {
     "data": {
      "text/html": [
       "<div>\n",
       "<style scoped>\n",
       "    .dataframe tbody tr th:only-of-type {\n",
       "        vertical-align: middle;\n",
       "    }\n",
       "\n",
       "    .dataframe tbody tr th {\n",
       "        vertical-align: top;\n",
       "    }\n",
       "\n",
       "    .dataframe thead th {\n",
       "        text-align: right;\n",
       "    }\n",
       "</style>\n",
       "<table border=\"1\" class=\"dataframe\">\n",
       "  <thead>\n",
       "    <tr style=\"text-align: right;\">\n",
       "      <th></th>\n",
       "      <th>Review</th>\n",
       "      <th>Rating</th>\n",
       "    </tr>\n",
       "  </thead>\n",
       "  <tbody>\n",
       "    <tr>\n",
       "      <th>0</th>\n",
       "      <td>(After using for more than a month) Not satisf...</td>\n",
       "      <td>4</td>\n",
       "    </tr>\n",
       "    <tr>\n",
       "      <th>1</th>\n",
       "      <td>Good laptop</td>\n",
       "      <td>4</td>\n",
       "    </tr>\n",
       "    <tr>\n",
       "      <th>2</th>\n",
       "      <td>It is my first laptop so i can not touch much ...</td>\n",
       "      <td>4</td>\n",
       "    </tr>\n",
       "    <tr>\n",
       "      <th>3</th>\n",
       "      <td>Even if we watch video for 720p for 30 minutes...</td>\n",
       "      <td>3</td>\n",
       "    </tr>\n",
       "    <tr>\n",
       "      <th>4</th>\n",
       "      <td>The laptop is good at 30,000 price. finally go...</td>\n",
       "      <td>4</td>\n",
       "    </tr>\n",
       "    <tr>\n",
       "      <th>5</th>\n",
       "      <td>You can buy this laptop for gaming gta 5 : 40+...</td>\n",
       "      <td>4</td>\n",
       "    </tr>\n",
       "    <tr>\n",
       "      <th>6</th>\n",
       "      <td>Overall laptop is best in 31000 rs but Amazon ...</td>\n",
       "      <td>4</td>\n",
       "    </tr>\n",
       "    <tr>\n",
       "      <th>7</th>\n",
       "      <td>Likes:\\n1. Excellent boot up time with new NVM...</td>\n",
       "      <td>4</td>\n",
       "    </tr>\n",
       "    <tr>\n",
       "      <th>8</th>\n",
       "      <td>It is good for work and stock market especiall...</td>\n",
       "      <td>3</td>\n",
       "    </tr>\n",
       "    <tr>\n",
       "      <th>9</th>\n",
       "      <td>Screen quality is not ok and speed is very slo...</td>\n",
       "      <td>4</td>\n",
       "    </tr>\n",
       "    <tr>\n",
       "      <th>10</th>\n",
       "      <td>I can't install Windows 11 what's the problem ...</td>\n",
       "      <td>3</td>\n",
       "    </tr>\n",
       "    <tr>\n",
       "      <th>11</th>\n",
       "      <td>Fairly fast, boot up speed is really fast, app...</td>\n",
       "      <td>4</td>\n",
       "    </tr>\n",
       "    <tr>\n",
       "      <th>12</th>\n",
       "      <td>Tested for the following and they are all work...</td>\n",
       "      <td>5</td>\n",
       "    </tr>\n",
       "    <tr>\n",
       "      <th>13</th>\n",
       "      <td>I like this if you are going to purchase a new...</td>\n",
       "      <td>4</td>\n",
       "    </tr>\n",
       "    <tr>\n",
       "      <th>14</th>\n",
       "      <td>Camera quality not good , also soud quality is...</td>\n",
       "      <td>3</td>\n",
       "    </tr>\n",
       "    <tr>\n",
       "      <th>15</th>\n",
       "      <td>I love this laptop very much it is flat and l...</td>\n",
       "      <td>5</td>\n",
       "    </tr>\n",
       "    <tr>\n",
       "      <th>16</th>\n",
       "      <td>I liked the compact and light weight design an...</td>\n",
       "      <td>4</td>\n",
       "    </tr>\n",
       "    <tr>\n",
       "      <th>17</th>\n",
       "      <td>This laptop is actually good. It's fast due to...</td>\n",
       "      <td>3</td>\n",
       "    </tr>\n",
       "    <tr>\n",
       "      <th>18</th>\n",
       "      <td>At this price point, this is one of the best l...</td>\n",
       "      <td>5</td>\n",
       "    </tr>\n",
       "    <tr>\n",
       "      <th>19</th>\n",
       "      <td>Screen quality somewhat okay but sound quality...</td>\n",
       "      <td>3</td>\n",
       "    </tr>\n",
       "    <tr>\n",
       "      <th>20</th>\n",
       "      <td>Display is poor.. its like white powdered scre...</td>\n",
       "      <td>3</td>\n",
       "    </tr>\n",
       "    <tr>\n",
       "      <th>21</th>\n",
       "      <td>Super sleek. Light weight. Very handy laptop. ...</td>\n",
       "      <td>4</td>\n",
       "    </tr>\n",
       "    <tr>\n",
       "      <th>22</th>\n",
       "      <td>Hi all this is an good laptop but I didn't rec...</td>\n",
       "      <td>3</td>\n",
       "    </tr>\n",
       "    <tr>\n",
       "      <th>23</th>\n",
       "      <td>Play Video</td>\n",
       "      <td>5</td>\n",
       "    </tr>\n",
       "    <tr>\n",
       "      <th>24</th>\n",
       "      <td>Didn't get Warranty card with this product!!\\n...</td>\n",
       "      <td>3</td>\n",
       "    </tr>\n",
       "    <tr>\n",
       "      <th>25</th>\n",
       "      <td>Price is great</td>\n",
       "      <td>4</td>\n",
       "    </tr>\n",
       "    <tr>\n",
       "      <th>26</th>\n",
       "      <td></td>\n",
       "      <td>5</td>\n",
       "    </tr>\n",
       "    <tr>\n",
       "      <th>27</th>\n",
       "      <td>Best Laptop for 31K Go for it..</td>\n",
       "      <td>5</td>\n",
       "    </tr>\n",
       "    <tr>\n",
       "      <th>28</th>\n",
       "      <td>Camera is worst and the laptop started hanging...</td>\n",
       "      <td>3</td>\n",
       "    </tr>\n",
       "    <tr>\n",
       "      <th>29</th>\n",
       "      <td>Processor skow</td>\n",
       "      <td>3</td>\n",
       "    </tr>\n",
       "    <tr>\n",
       "      <th>30</th>\n",
       "      <td>I bought this on 5/Dec/2021. Been a laptop use...</td>\n",
       "      <td>1</td>\n",
       "    </tr>\n",
       "    <tr>\n",
       "      <th>31</th>\n",
       "      <td>Low sound average display &amp; not get SD card po...</td>\n",
       "      <td>2</td>\n",
       "    </tr>\n",
       "    <tr>\n",
       "      <th>32</th>\n",
       "      <td>Good Battery not perfect battery leek problem</td>\n",
       "      <td>5</td>\n",
       "    </tr>\n",
       "    <tr>\n",
       "      <th>33</th>\n",
       "      <td>Received the product ordered. Very satisfied!</td>\n",
       "      <td>5</td>\n",
       "    </tr>\n",
       "    <tr>\n",
       "      <th>34</th>\n",
       "      <td>Received used product. scratches on body. and ...</td>\n",
       "      <td>2</td>\n",
       "    </tr>\n",
       "    <tr>\n",
       "      <th>35</th>\n",
       "      <td>After 8 months the laptop showing its technica...</td>\n",
       "      <td>1</td>\n",
       "    </tr>\n",
       "    <tr>\n",
       "      <th>36</th>\n",
       "      <td>Superb laptop</td>\n",
       "      <td>5</td>\n",
       "    </tr>\n",
       "    <tr>\n",
       "      <th>37</th>\n",
       "      <td>Light weight, my laptop got updated window 11.</td>\n",
       "      <td>5</td>\n",
       "    </tr>\n",
       "    <tr>\n",
       "      <th>38</th>\n",
       "      <td>Very well designed budget work laptop</td>\n",
       "      <td>5</td>\n",
       "    </tr>\n",
       "    <tr>\n",
       "      <th>39</th>\n",
       "      <td>screen quality is very low blurry view</td>\n",
       "      <td>1</td>\n",
       "    </tr>\n",
       "    <tr>\n",
       "      <th>40</th>\n",
       "      <td>HDD install kit ( connector and HDD bay rubber...</td>\n",
       "      <td>5</td>\n",
       "    </tr>\n",
       "    <tr>\n",
       "      <th>41</th>\n",
       "      <td>It's fantastic. I am so happy with it, really ...</td>\n",
       "      <td>5</td>\n",
       "    </tr>\n",
       "    <tr>\n",
       "      <th>42</th>\n",
       "      <td>the laptop did\"t boot and when tried many solu...</td>\n",
       "      <td>1</td>\n",
       "    </tr>\n",
       "    <tr>\n",
       "      <th>43</th>\n",
       "      <td>Very light weight and good to work in CAD soft...</td>\n",
       "      <td>5</td>\n",
       "    </tr>\n",
       "    <tr>\n",
       "      <th>44</th>\n",
       "      <td>Not buy this product because many issues in my...</td>\n",
       "      <td>1</td>\n",
       "    </tr>\n",
       "    <tr>\n",
       "      <th>45</th>\n",
       "      <td>Its audio is not working properly and has issu...</td>\n",
       "      <td>1</td>\n",
       "    </tr>\n",
       "    <tr>\n",
       "      <th>46</th>\n",
       "      <td>Compact size is very good.... Good Display\\nLo...</td>\n",
       "      <td>5</td>\n",
       "    </tr>\n",
       "    <tr>\n",
       "      <th>47</th>\n",
       "      <td>Compact, lightweight and fast... Go for it.</td>\n",
       "      <td>5</td>\n",
       "    </tr>\n",
       "    <tr>\n",
       "      <th>48</th>\n",
       "      <td>Nice and so fast to use</td>\n",
       "      <td>5</td>\n",
       "    </tr>\n",
       "    <tr>\n",
       "      <th>49</th>\n",
       "      <td>ASUS never disappointed me.</td>\n",
       "      <td>5</td>\n",
       "    </tr>\n",
       "  </tbody>\n",
       "</table>\n",
       "</div>"
      ],
      "text/plain": [
       "                                               Review Rating\n",
       "0   (After using for more than a month) Not satisf...      4\n",
       "1                                         Good laptop      4\n",
       "2   It is my first laptop so i can not touch much ...      4\n",
       "3   Even if we watch video for 720p for 30 minutes...      3\n",
       "4   The laptop is good at 30,000 price. finally go...      4\n",
       "5   You can buy this laptop for gaming gta 5 : 40+...      4\n",
       "6   Overall laptop is best in 31000 rs but Amazon ...      4\n",
       "7   Likes:\\n1. Excellent boot up time with new NVM...      4\n",
       "8   It is good for work and stock market especiall...      3\n",
       "9   Screen quality is not ok and speed is very slo...      4\n",
       "10  I can't install Windows 11 what's the problem ...      3\n",
       "11  Fairly fast, boot up speed is really fast, app...      4\n",
       "12  Tested for the following and they are all work...      5\n",
       "13  I like this if you are going to purchase a new...      4\n",
       "14  Camera quality not good , also soud quality is...      3\n",
       "15   I love this laptop very much it is flat and l...      5\n",
       "16  I liked the compact and light weight design an...      4\n",
       "17  This laptop is actually good. It's fast due to...      3\n",
       "18  At this price point, this is one of the best l...      5\n",
       "19  Screen quality somewhat okay but sound quality...      3\n",
       "20  Display is poor.. its like white powdered scre...      3\n",
       "21  Super sleek. Light weight. Very handy laptop. ...      4\n",
       "22  Hi all this is an good laptop but I didn't rec...      3\n",
       "23                                         Play Video      5\n",
       "24  Didn't get Warranty card with this product!!\\n...      3\n",
       "25                                     Price is great      4\n",
       "26                                                         5\n",
       "27                    Best Laptop for 31K Go for it..      5\n",
       "28  Camera is worst and the laptop started hanging...      3\n",
       "29                                     Processor skow      3\n",
       "30  I bought this on 5/Dec/2021. Been a laptop use...      1\n",
       "31  Low sound average display & not get SD card po...      2\n",
       "32      Good Battery not perfect battery leek problem      5\n",
       "33      Received the product ordered. Very satisfied!      5\n",
       "34  Received used product. scratches on body. and ...      2\n",
       "35  After 8 months the laptop showing its technica...      1\n",
       "36                                      Superb laptop      5\n",
       "37     Light weight, my laptop got updated window 11.      5\n",
       "38              Very well designed budget work laptop      5\n",
       "39             screen quality is very low blurry view      1\n",
       "40  HDD install kit ( connector and HDD bay rubber...      5\n",
       "41  It's fantastic. I am so happy with it, really ...      5\n",
       "42  the laptop did\"t boot and when tried many solu...      1\n",
       "43  Very light weight and good to work in CAD soft...      5\n",
       "44  Not buy this product because many issues in my...      1\n",
       "45  Its audio is not working properly and has issu...      1\n",
       "46  Compact size is very good.... Good Display\\nLo...      5\n",
       "47        Compact, lightweight and fast... Go for it.      5\n",
       "48                            Nice and so fast to use      5\n",
       "49                        ASUS never disappointed me.      5"
      ]
     },
     "execution_count": 6,
     "metadata": {},
     "output_type": "execute_result"
    }
   ],
   "source": [
    "df=pd.DataFrame({'Review':Review,'Rating':Ratings})\n",
    "df"
   ]
  },
  {
   "cell_type": "markdown",
   "id": "9e64e589",
   "metadata": {},
   "source": [
    "# Gadget = OnePlus Nord CE 2 Lite 5G"
   ]
  },
  {
   "cell_type": "code",
   "execution_count": 7,
   "id": "02c89dde",
   "metadata": {},
   "outputs": [],
   "source": [
    "driver.get('https://www.amazon.in/OnePlus-Nord-Lite-128GB-Storage/product-reviews/B09WQYFLRX/ref=cm_cr_dp_d_show_all_btm?ie=UTF8&reviewerType=all_reviews')"
   ]
  },
  {
   "cell_type": "code",
   "execution_count": 8,
   "id": "aec4b03a",
   "metadata": {},
   "outputs": [],
   "source": [
    "Review1=[]\n",
    "Rating1=[]\n",
    "start=0\n",
    "end=100\n",
    "for page in range(start,end):\n",
    "    review=driver.find_elements(By.XPATH,'//span[@data-hook=\"review-body\"]')\n",
    "    for i in review:\n",
    "        Review1.append(i.text)\n",
    "    lst_of_ratings = driver.find_elements(By.CLASS_NAME, \"review-rating\")\n",
    "    for value in lst_of_ratings[2:]:\n",
    "        rating = value.get_attribute('textContent')\n",
    "        Rating1.append(rating)\n",
    "    driver.find_element(By.XPATH,\".//*[contains(text(),'Next page')]\").click()\n",
    "    time.sleep(3)"
   ]
  },
  {
   "cell_type": "code",
   "execution_count": 9,
   "id": "3dc9e70f",
   "metadata": {},
   "outputs": [],
   "source": [
    "Ratings1=[item.split('.',1)[0] for item in Rating1]"
   ]
  },
  {
   "cell_type": "code",
   "execution_count": 10,
   "id": "fe5cd251",
   "metadata": {},
   "outputs": [
    {
     "data": {
      "text/html": [
       "<div>\n",
       "<style scoped>\n",
       "    .dataframe tbody tr th:only-of-type {\n",
       "        vertical-align: middle;\n",
       "    }\n",
       "\n",
       "    .dataframe tbody tr th {\n",
       "        vertical-align: top;\n",
       "    }\n",
       "\n",
       "    .dataframe thead th {\n",
       "        text-align: right;\n",
       "    }\n",
       "</style>\n",
       "<table border=\"1\" class=\"dataframe\">\n",
       "  <thead>\n",
       "    <tr style=\"text-align: right;\">\n",
       "      <th></th>\n",
       "      <th>Review</th>\n",
       "      <th>Rating</th>\n",
       "    </tr>\n",
       "  </thead>\n",
       "  <tbody>\n",
       "    <tr>\n",
       "      <th>0</th>\n",
       "      <td>This is my first 1+ mobile but frankly this is...</td>\n",
       "      <td>4</td>\n",
       "    </tr>\n",
       "    <tr>\n",
       "      <th>1</th>\n",
       "      <td>after 4 months of usage, the mobile is very go...</td>\n",
       "      <td>4</td>\n",
       "    </tr>\n",
       "    <tr>\n",
       "      <th>2</th>\n",
       "      <td>I was searching a smartphone in 25-30k segment...</td>\n",
       "      <td>4</td>\n",
       "    </tr>\n",
       "    <tr>\n",
       "      <th>3</th>\n",
       "      <td>Bought in big billion day sale but towards the...</td>\n",
       "      <td>4</td>\n",
       "    </tr>\n",
       "    <tr>\n",
       "      <th>4</th>\n",
       "      <td>Overall a fine product to use but as per funct...</td>\n",
       "      <td>4</td>\n",
       "    </tr>\n",
       "    <tr>\n",
       "      <th>...</th>\n",
       "      <td>...</td>\n",
       "      <td>...</td>\n",
       "    </tr>\n",
       "    <tr>\n",
       "      <th>995</th>\n",
       "      <td>Nice</td>\n",
       "      <td>5</td>\n",
       "    </tr>\n",
       "    <tr>\n",
       "      <th>996</th>\n",
       "      <td>Overall, it's a good phone. Sometimes it takes...</td>\n",
       "      <td>4</td>\n",
       "    </tr>\n",
       "    <tr>\n",
       "      <th>997</th>\n",
       "      <td>Battary Life is good, display is ok, finger pr...</td>\n",
       "      <td>3</td>\n",
       "    </tr>\n",
       "    <tr>\n",
       "      <th>998</th>\n",
       "      <td>Camera is not good so I think don't buy this p...</td>\n",
       "      <td>3</td>\n",
       "    </tr>\n",
       "    <tr>\n",
       "      <th>999</th>\n",
       "      <td>This is the best smartphone that I have ever o...</td>\n",
       "      <td>5</td>\n",
       "    </tr>\n",
       "  </tbody>\n",
       "</table>\n",
       "<p>1000 rows × 2 columns</p>\n",
       "</div>"
      ],
      "text/plain": [
       "                                                Review Rating\n",
       "0    This is my first 1+ mobile but frankly this is...      4\n",
       "1    after 4 months of usage, the mobile is very go...      4\n",
       "2    I was searching a smartphone in 25-30k segment...      4\n",
       "3    Bought in big billion day sale but towards the...      4\n",
       "4    Overall a fine product to use but as per funct...      4\n",
       "..                                                 ...    ...\n",
       "995                                               Nice      5\n",
       "996  Overall, it's a good phone. Sometimes it takes...      4\n",
       "997  Battary Life is good, display is ok, finger pr...      3\n",
       "998  Camera is not good so I think don't buy this p...      3\n",
       "999  This is the best smartphone that I have ever o...      5\n",
       "\n",
       "[1000 rows x 2 columns]"
      ]
     },
     "execution_count": 10,
     "metadata": {},
     "output_type": "execute_result"
    }
   ],
   "source": [
    "df1=pd.DataFrame({'Review':Review1,'Rating':Ratings1})\n",
    "df1"
   ]
  },
  {
   "cell_type": "code",
   "execution_count": 11,
   "id": "5291c28f",
   "metadata": {},
   "outputs": [
    {
     "data": {
      "text/plain": [
       "(1000, 2)"
      ]
     },
     "execution_count": 11,
     "metadata": {},
     "output_type": "execute_result"
    }
   ],
   "source": [
    "df1.shape"
   ]
  },
  {
   "cell_type": "markdown",
   "id": "d8e812ca",
   "metadata": {},
   "source": [
    "# Gadget = OnePlus Nord CE 2 Lite 5G (Black Dusk, 6GB RAM, 128GB Storage)"
   ]
  },
  {
   "cell_type": "code",
   "execution_count": 16,
   "id": "eb52d9ab",
   "metadata": {},
   "outputs": [],
   "source": [
    "driver.get('https://www.amazon.in/OnePlus-Nord-Black-128GB-Storage/product-reviews/B09WQY65HN/ref=cm_cr_dp_d_show_all_btm?ie=UTF8&reviewerType=all_reviews')"
   ]
  },
  {
   "cell_type": "code",
   "execution_count": 17,
   "id": "724c3a0d",
   "metadata": {},
   "outputs": [],
   "source": [
    "Review2=[]\n",
    "Rating2=[]\n",
    "start=0\n",
    "end=30\n",
    "for page in range(start,end):\n",
    "    review=driver.find_elements(By.XPATH,'//span[@data-hook=\"review-body\"]')\n",
    "    for i in review:\n",
    "        Review2.append(i.text)\n",
    "    lst_of_ratings = driver.find_elements(By.CLASS_NAME, \"review-rating\")\n",
    "    for value in lst_of_ratings[2:]:\n",
    "        rating = value.get_attribute('textContent')\n",
    "        Rating2.append(rating)\n",
    "    driver.find_element(By.XPATH,\".//*[contains(text(),'Next page')]\").click()\n",
    "    time.sleep(3)"
   ]
  },
  {
   "cell_type": "code",
   "execution_count": 18,
   "id": "0b3549c2",
   "metadata": {},
   "outputs": [],
   "source": [
    "Ratings2=[item.split('.',1)[0] for item in Rating2]"
   ]
  },
  {
   "cell_type": "code",
   "execution_count": 19,
   "id": "b1c8ec8e",
   "metadata": {},
   "outputs": [
    {
     "data": {
      "text/html": [
       "<div>\n",
       "<style scoped>\n",
       "    .dataframe tbody tr th:only-of-type {\n",
       "        vertical-align: middle;\n",
       "    }\n",
       "\n",
       "    .dataframe tbody tr th {\n",
       "        vertical-align: top;\n",
       "    }\n",
       "\n",
       "    .dataframe thead th {\n",
       "        text-align: right;\n",
       "    }\n",
       "</style>\n",
       "<table border=\"1\" class=\"dataframe\">\n",
       "  <thead>\n",
       "    <tr style=\"text-align: right;\">\n",
       "      <th></th>\n",
       "      <th>Review</th>\n",
       "      <th>Rating</th>\n",
       "    </tr>\n",
       "  </thead>\n",
       "  <tbody>\n",
       "    <tr>\n",
       "      <th>0</th>\n",
       "      <td>This is my first 1+ mobile but frankly this is...</td>\n",
       "      <td>4</td>\n",
       "    </tr>\n",
       "    <tr>\n",
       "      <th>1</th>\n",
       "      <td>after 4 months of usage, the mobile is very go...</td>\n",
       "      <td>4</td>\n",
       "    </tr>\n",
       "    <tr>\n",
       "      <th>2</th>\n",
       "      <td>I was searching a smartphone in 25-30k segment...</td>\n",
       "      <td>4</td>\n",
       "    </tr>\n",
       "    <tr>\n",
       "      <th>3</th>\n",
       "      <td>Bought in big billion day sale but towards the...</td>\n",
       "      <td>4</td>\n",
       "    </tr>\n",
       "    <tr>\n",
       "      <th>4</th>\n",
       "      <td>Overall a fine product to use but as per funct...</td>\n",
       "      <td>4</td>\n",
       "    </tr>\n",
       "    <tr>\n",
       "      <th>...</th>\n",
       "      <td>...</td>\n",
       "      <td>...</td>\n",
       "    </tr>\n",
       "    <tr>\n",
       "      <th>295</th>\n",
       "      <td>Nice</td>\n",
       "      <td>4</td>\n",
       "    </tr>\n",
       "    <tr>\n",
       "      <th>296</th>\n",
       "      <td>Updated version is not available in this phone...</td>\n",
       "      <td>4</td>\n",
       "    </tr>\n",
       "    <tr>\n",
       "      <th>297</th>\n",
       "      <td>Plz improve camera quality and flash light. Ca...</td>\n",
       "      <td>4</td>\n",
       "    </tr>\n",
       "    <tr>\n",
       "      <th>298</th>\n",
       "      <td>Need to upgrade the battery life\\n\\nMobile is ...</td>\n",
       "      <td>4</td>\n",
       "    </tr>\n",
       "    <tr>\n",
       "      <th>299</th>\n",
       "      <td>Indisplay finger print is pretty good,camera i...</td>\n",
       "      <td>4</td>\n",
       "    </tr>\n",
       "  </tbody>\n",
       "</table>\n",
       "<p>300 rows × 2 columns</p>\n",
       "</div>"
      ],
      "text/plain": [
       "                                                Review Rating\n",
       "0    This is my first 1+ mobile but frankly this is...      4\n",
       "1    after 4 months of usage, the mobile is very go...      4\n",
       "2    I was searching a smartphone in 25-30k segment...      4\n",
       "3    Bought in big billion day sale but towards the...      4\n",
       "4    Overall a fine product to use but as per funct...      4\n",
       "..                                                 ...    ...\n",
       "295                                               Nice      4\n",
       "296  Updated version is not available in this phone...      4\n",
       "297  Plz improve camera quality and flash light. Ca...      4\n",
       "298  Need to upgrade the battery life\\n\\nMobile is ...      4\n",
       "299  Indisplay finger print is pretty good,camera i...      4\n",
       "\n",
       "[300 rows x 2 columns]"
      ]
     },
     "execution_count": 19,
     "metadata": {},
     "output_type": "execute_result"
    }
   ],
   "source": [
    "df2=pd.DataFrame({'Review':Review2,'Rating':Ratings2})\n",
    "df2"
   ]
  },
  {
   "cell_type": "code",
   "execution_count": 20,
   "id": "77e12057",
   "metadata": {},
   "outputs": [
    {
     "data": {
      "text/plain": [
       "(300, 2)"
      ]
     },
     "execution_count": 20,
     "metadata": {},
     "output_type": "execute_result"
    }
   ],
   "source": [
    "df2.shape"
   ]
  },
  {
   "cell_type": "markdown",
   "id": "7eeae120",
   "metadata": {},
   "source": [
    "# gadget=Redmi Note 11T 5G (Stardust White, 6GB RAM, 128GB ROM)"
   ]
  },
  {
   "cell_type": "code",
   "execution_count": 21,
   "id": "9f1bb073",
   "metadata": {},
   "outputs": [],
   "source": [
    "driver.get('https://www.amazon.in/Redmi-Note-11T-5G-Dimensity/product-reviews/B09LHZSMRR/ref=cm_cr_dp_d_show_all_btm?ie=UTF8&reviewerType=all_reviews')"
   ]
  },
  {
   "cell_type": "code",
   "execution_count": 22,
   "id": "82f71ed7",
   "metadata": {},
   "outputs": [],
   "source": [
    "Review3=[]\n",
    "Rating3=[]\n",
    "start=0\n",
    "end=100\n",
    "for page in range(start,end):\n",
    "    review=driver.find_elements(By.XPATH,'//span[@data-hook=\"review-body\"]')\n",
    "    for i in review:\n",
    "        Review3.append(i.text)\n",
    "    lst_of_ratings = driver.find_elements(By.CLASS_NAME, \"review-rating\")\n",
    "    for value in lst_of_ratings[2:]:\n",
    "        rating = value.get_attribute('textContent')\n",
    "        Rating3.append(rating)\n",
    "    driver.find_element(By.XPATH,\".//*[contains(text(),'Next page')]\").click()\n",
    "    time.sleep(3)"
   ]
  },
  {
   "cell_type": "code",
   "execution_count": 23,
   "id": "2017e6c5",
   "metadata": {},
   "outputs": [],
   "source": [
    "Ratings3=[item.split('.',1)[0] for item in Rating3]"
   ]
  },
  {
   "cell_type": "code",
   "execution_count": 24,
   "id": "9eacf22b",
   "metadata": {},
   "outputs": [
    {
     "data": {
      "text/html": [
       "<div>\n",
       "<style scoped>\n",
       "    .dataframe tbody tr th:only-of-type {\n",
       "        vertical-align: middle;\n",
       "    }\n",
       "\n",
       "    .dataframe tbody tr th {\n",
       "        vertical-align: top;\n",
       "    }\n",
       "\n",
       "    .dataframe thead th {\n",
       "        text-align: right;\n",
       "    }\n",
       "</style>\n",
       "<table border=\"1\" class=\"dataframe\">\n",
       "  <thead>\n",
       "    <tr style=\"text-align: right;\">\n",
       "      <th></th>\n",
       "      <th>Review</th>\n",
       "      <th>Rating</th>\n",
       "    </tr>\n",
       "  </thead>\n",
       "  <tbody>\n",
       "    <tr>\n",
       "      <th>0</th>\n",
       "      <td>-Phone runs amazing with the dimensity 810 and...</td>\n",
       "      <td>4</td>\n",
       "    </tr>\n",
       "    <tr>\n",
       "      <th>1</th>\n",
       "      <td>1) fingerprint censor sucks, it's very annoyin...</td>\n",
       "      <td>4</td>\n",
       "    </tr>\n",
       "    <tr>\n",
       "      <th>2</th>\n",
       "      <td>If I am trying to set different font it is not...</td>\n",
       "      <td>4</td>\n",
       "    </tr>\n",
       "    <tr>\n",
       "      <th>3</th>\n",
       "      <td>I like the performance of this phone\\nIt works...</td>\n",
       "      <td>4</td>\n",
       "    </tr>\n",
       "    <tr>\n",
       "      <th>4</th>\n",
       "      <td>All is very good\\nbut Finger print sencer not ...</td>\n",
       "      <td>4</td>\n",
       "    </tr>\n",
       "    <tr>\n",
       "      <th>...</th>\n",
       "      <td>...</td>\n",
       "      <td>...</td>\n",
       "    </tr>\n",
       "    <tr>\n",
       "      <th>995</th>\n",
       "      <td>Best 5G mobile for this price range, bettry ba...</td>\n",
       "      <td>4</td>\n",
       "    </tr>\n",
       "    <tr>\n",
       "      <th>996</th>\n",
       "      <td>Recomended</td>\n",
       "      <td>5</td>\n",
       "    </tr>\n",
       "    <tr>\n",
       "      <th>997</th>\n",
       "      <td>This is a phone with two day battery 🔋</td>\n",
       "      <td>4</td>\n",
       "    </tr>\n",
       "    <tr>\n",
       "      <th>998</th>\n",
       "      <td>Bahut phone 15000</td>\n",
       "      <td>5</td>\n",
       "    </tr>\n",
       "    <tr>\n",
       "      <th>999</th>\n",
       "      <td>Best</td>\n",
       "      <td>5</td>\n",
       "    </tr>\n",
       "  </tbody>\n",
       "</table>\n",
       "<p>1000 rows × 2 columns</p>\n",
       "</div>"
      ],
      "text/plain": [
       "                                                Review Rating\n",
       "0    -Phone runs amazing with the dimensity 810 and...      4\n",
       "1    1) fingerprint censor sucks, it's very annoyin...      4\n",
       "2    If I am trying to set different font it is not...      4\n",
       "3    I like the performance of this phone\\nIt works...      4\n",
       "4    All is very good\\nbut Finger print sencer not ...      4\n",
       "..                                                 ...    ...\n",
       "995  Best 5G mobile for this price range, bettry ba...      4\n",
       "996                                         Recomended      5\n",
       "997             This is a phone with two day battery 🔋      4\n",
       "998                                  Bahut phone 15000      5\n",
       "999                                               Best      5\n",
       "\n",
       "[1000 rows x 2 columns]"
      ]
     },
     "execution_count": 24,
     "metadata": {},
     "output_type": "execute_result"
    }
   ],
   "source": [
    "df3=pd.DataFrame({'Review':Review3,'Rating':Ratings3})\n",
    "df3"
   ]
  },
  {
   "cell_type": "code",
   "execution_count": 25,
   "id": "214d021e",
   "metadata": {},
   "outputs": [
    {
     "data": {
      "text/plain": [
       "(1000, 2)"
      ]
     },
     "execution_count": 25,
     "metadata": {},
     "output_type": "execute_result"
    }
   ],
   "source": [
    "df3.shape"
   ]
  },
  {
   "cell_type": "markdown",
   "id": "40ff0dfa",
   "metadata": {},
   "source": [
    "# Gadget = ASUS VivoBook 15 (2021), 15.6-inch (39.62 cm) HD"
   ]
  },
  {
   "cell_type": "code",
   "execution_count": 27,
   "id": "ae4dd9a2",
   "metadata": {},
   "outputs": [],
   "source": [
    "driver=webdriver.Chrome(r\"C:\\Users\\91994\\Desktop\\DRiver\\chromedriver.exe\")"
   ]
  },
  {
   "cell_type": "code",
   "execution_count": 28,
   "id": "976170c1",
   "metadata": {},
   "outputs": [],
   "source": [
    "driver.get('https://www.amazon.in/ASUS-15-6-inch-Integrated-Transparent-X515MA-BR011W/product-reviews/B09SGGB687/ref=cm_cr_dp_d_show_all_btm?ie=UTF8&reviewerType=all_reviews')"
   ]
  },
  {
   "cell_type": "code",
   "execution_count": 29,
   "id": "80919420",
   "metadata": {},
   "outputs": [],
   "source": [
    "Review4=[]\n",
    "Rating4=[]\n",
    "start=0\n",
    "end=15\n",
    "for page in range(start,end):\n",
    "    review=driver.find_elements(By.XPATH,'//span[@data-hook=\"review-body\"]')\n",
    "    for i in review:\n",
    "        Review4.append(i.text)\n",
    "    lst_of_ratings = driver.find_elements(By.CLASS_NAME, \"review-rating\")\n",
    "    for value in lst_of_ratings[2:]:\n",
    "        rating = value.get_attribute('textContent')\n",
    "        Rating4.append(rating)\n",
    "    driver.find_element(By.XPATH,\".//*[contains(text(),'Next page')]\").click()\n",
    "    time.sleep(3)"
   ]
  },
  {
   "cell_type": "code",
   "execution_count": 30,
   "id": "ea5e8de9",
   "metadata": {},
   "outputs": [],
   "source": [
    "Ratings4=[item.split('.',1)[0] for item in Rating4]"
   ]
  },
  {
   "cell_type": "code",
   "execution_count": 32,
   "id": "ec3fa930",
   "metadata": {},
   "outputs": [
    {
     "data": {
      "text/html": [
       "<div>\n",
       "<style scoped>\n",
       "    .dataframe tbody tr th:only-of-type {\n",
       "        vertical-align: middle;\n",
       "    }\n",
       "\n",
       "    .dataframe tbody tr th {\n",
       "        vertical-align: top;\n",
       "    }\n",
       "\n",
       "    .dataframe thead th {\n",
       "        text-align: right;\n",
       "    }\n",
       "</style>\n",
       "<table border=\"1\" class=\"dataframe\">\n",
       "  <thead>\n",
       "    <tr style=\"text-align: right;\">\n",
       "      <th></th>\n",
       "      <th>Review</th>\n",
       "      <th>Rating</th>\n",
       "    </tr>\n",
       "  </thead>\n",
       "  <tbody>\n",
       "    <tr>\n",
       "      <th>0</th>\n",
       "      <td>Best in price</td>\n",
       "      <td>4</td>\n",
       "    </tr>\n",
       "    <tr>\n",
       "      <th>1</th>\n",
       "      <td>For home use and simple work, it is fine howev...</td>\n",
       "      <td>4</td>\n",
       "    </tr>\n",
       "    <tr>\n",
       "      <th>2</th>\n",
       "      <td>Fingerprint</td>\n",
       "      <td>4</td>\n",
       "    </tr>\n",
       "    <tr>\n",
       "      <th>3</th>\n",
       "      <td>Screen quality is substantially low, you could...</td>\n",
       "      <td>4</td>\n",
       "    </tr>\n",
       "    <tr>\n",
       "      <th>4</th>\n",
       "      <td>Nice products\\nAsus</td>\n",
       "      <td>4</td>\n",
       "    </tr>\n",
       "    <tr>\n",
       "      <th>...</th>\n",
       "      <td>...</td>\n",
       "      <td>...</td>\n",
       "    </tr>\n",
       "    <tr>\n",
       "      <th>145</th>\n",
       "      <td></td>\n",
       "      <td>1</td>\n",
       "    </tr>\n",
       "    <tr>\n",
       "      <th>146</th>\n",
       "      <td>Poor</td>\n",
       "      <td>1</td>\n",
       "    </tr>\n",
       "    <tr>\n",
       "      <th>147</th>\n",
       "      <td>It's processor is very slow.</td>\n",
       "      <td>1</td>\n",
       "    </tr>\n",
       "    <tr>\n",
       "      <th>148</th>\n",
       "      <td></td>\n",
       "      <td>1</td>\n",
       "    </tr>\n",
       "    <tr>\n",
       "      <th>149</th>\n",
       "      <td>Their product is very fragile compared to othe...</td>\n",
       "      <td>1</td>\n",
       "    </tr>\n",
       "  </tbody>\n",
       "</table>\n",
       "<p>150 rows × 2 columns</p>\n",
       "</div>"
      ],
      "text/plain": [
       "                                                Review Rating\n",
       "0                                        Best in price      4\n",
       "1    For home use and simple work, it is fine howev...      4\n",
       "2                                          Fingerprint      4\n",
       "3    Screen quality is substantially low, you could...      4\n",
       "4                                  Nice products\\nAsus      4\n",
       "..                                                 ...    ...\n",
       "145                                                         1\n",
       "146                                               Poor      1\n",
       "147                       It's processor is very slow.      1\n",
       "148                                                         1\n",
       "149  Their product is very fragile compared to othe...      1\n",
       "\n",
       "[150 rows x 2 columns]"
      ]
     },
     "execution_count": 32,
     "metadata": {},
     "output_type": "execute_result"
    }
   ],
   "source": [
    "df4=pd.DataFrame({'Review':Review4,'Rating':Ratings4})\n",
    "df4"
   ]
  },
  {
   "cell_type": "code",
   "execution_count": 33,
   "id": "400a2902",
   "metadata": {},
   "outputs": [
    {
     "data": {
      "text/plain": [
       "(150, 2)"
      ]
     },
     "execution_count": 33,
     "metadata": {},
     "output_type": "execute_result"
    }
   ],
   "source": [
    "df4.shape"
   ]
  },
  {
   "cell_type": "markdown",
   "id": "a38a4e50",
   "metadata": {},
   "source": [
    "# Gadget = (Renewed) Dell Latitude E5470 Intel Core i5 6th Gen.6200u Processor"
   ]
  },
  {
   "cell_type": "code",
   "execution_count": 34,
   "id": "219179e8",
   "metadata": {},
   "outputs": [],
   "source": [
    "driver.get('https://www.amazon.in/Renewed-Dell-Latitude-Laptop-E5470/product-reviews/B094CBQ32N/ref=cm_cr_dp_d_show_all_btm?ie=UTF8&reviewerType=all_reviews')"
   ]
  },
  {
   "cell_type": "code",
   "execution_count": 36,
   "id": "e72fa7f7",
   "metadata": {},
   "outputs": [],
   "source": [
    "Review5=[]\n",
    "Rating5=[]\n",
    "start=0\n",
    "end=20\n",
    "for page in range(start,end):\n",
    "    review=driver.find_elements(By.XPATH,'//span[@data-hook=\"review-body\"]')\n",
    "    for i in review:\n",
    "        Review5.append(i.text)\n",
    "    lst_of_ratings = driver.find_elements(By.CLASS_NAME, \"review-rating\")\n",
    "    for value in lst_of_ratings[2:]:\n",
    "        rating = value.get_attribute('textContent')\n",
    "        Rating5.append(rating)\n",
    "    driver.find_element(By.XPATH,\".//*[contains(text(),'Next page')]\").click()\n",
    "    time.sleep(3)"
   ]
  },
  {
   "cell_type": "code",
   "execution_count": 37,
   "id": "f25ca15a",
   "metadata": {},
   "outputs": [],
   "source": [
    "Ratings5=[item.split('.',1)[0] for item in Rating5]"
   ]
  },
  {
   "cell_type": "code",
   "execution_count": 38,
   "id": "46b37650",
   "metadata": {},
   "outputs": [
    {
     "data": {
      "text/html": [
       "<div>\n",
       "<style scoped>\n",
       "    .dataframe tbody tr th:only-of-type {\n",
       "        vertical-align: middle;\n",
       "    }\n",
       "\n",
       "    .dataframe tbody tr th {\n",
       "        vertical-align: top;\n",
       "    }\n",
       "\n",
       "    .dataframe thead th {\n",
       "        text-align: right;\n",
       "    }\n",
       "</style>\n",
       "<table border=\"1\" class=\"dataframe\">\n",
       "  <thead>\n",
       "    <tr style=\"text-align: right;\">\n",
       "      <th></th>\n",
       "      <th>Review</th>\n",
       "      <th>Rating</th>\n",
       "    </tr>\n",
       "  </thead>\n",
       "  <tbody>\n",
       "    <tr>\n",
       "      <th>0</th>\n",
       "      <td>When I was looking to purchase a new laptop, i...</td>\n",
       "      <td>5</td>\n",
       "    </tr>\n",
       "    <tr>\n",
       "      <th>1</th>\n",
       "      <td>Not good quality</td>\n",
       "      <td>4</td>\n",
       "    </tr>\n",
       "    <tr>\n",
       "      <th>2</th>\n",
       "      <td>As good as new one</td>\n",
       "      <td>5</td>\n",
       "    </tr>\n",
       "    <tr>\n",
       "      <th>3</th>\n",
       "      <td>Apart from one of screws out of place which ha...</td>\n",
       "      <td>4</td>\n",
       "    </tr>\n",
       "    <tr>\n",
       "      <th>4</th>\n",
       "      <td>Speed is good, all keyboard keys are working. ...</td>\n",
       "      <td>4</td>\n",
       "    </tr>\n",
       "    <tr>\n",
       "      <th>...</th>\n",
       "      <td>...</td>\n",
       "      <td>...</td>\n",
       "    </tr>\n",
       "    <tr>\n",
       "      <th>187</th>\n",
       "      <td>ठीक है दोस्तों 1-2 दिनों में मशीन के बारे में ...</td>\n",
       "      <td>1</td>\n",
       "    </tr>\n",
       "    <tr>\n",
       "      <th>188</th>\n",
       "      <td>Value for money</td>\n",
       "      <td>5</td>\n",
       "    </tr>\n",
       "    <tr>\n",
       "      <th>189</th>\n",
       "      <td>Good price and better experience</td>\n",
       "      <td>5</td>\n",
       "    </tr>\n",
       "    <tr>\n",
       "      <th>190</th>\n",
       "      <td>Very good.\\nIt is as good as new.\\nBattery lif...</td>\n",
       "      <td>5</td>\n",
       "    </tr>\n",
       "    <tr>\n",
       "      <th>191</th>\n",
       "      <td>Play Video\\n Good quality products thanks you</td>\n",
       "      <td>5</td>\n",
       "    </tr>\n",
       "  </tbody>\n",
       "</table>\n",
       "<p>192 rows × 2 columns</p>\n",
       "</div>"
      ],
      "text/plain": [
       "                                                Review Rating\n",
       "0    When I was looking to purchase a new laptop, i...      5\n",
       "1                                     Not good quality      4\n",
       "2                                   As good as new one      5\n",
       "3    Apart from one of screws out of place which ha...      4\n",
       "4    Speed is good, all keyboard keys are working. ...      4\n",
       "..                                                 ...    ...\n",
       "187  ठीक है दोस्तों 1-2 दिनों में मशीन के बारे में ...      1\n",
       "188                                    Value for money      5\n",
       "189                   Good price and better experience      5\n",
       "190  Very good.\\nIt is as good as new.\\nBattery lif...      5\n",
       "191      Play Video\\n Good quality products thanks you      5\n",
       "\n",
       "[192 rows x 2 columns]"
      ]
     },
     "execution_count": 38,
     "metadata": {},
     "output_type": "execute_result"
    }
   ],
   "source": [
    "df5=pd.DataFrame({'Review':Review5,'Rating':Ratings5})\n",
    "df5"
   ]
  },
  {
   "cell_type": "code",
   "execution_count": 39,
   "id": "e23e0f6c",
   "metadata": {},
   "outputs": [
    {
     "data": {
      "text/plain": [
       "(192, 2)"
      ]
     },
     "execution_count": 39,
     "metadata": {},
     "output_type": "execute_result"
    }
   ],
   "source": [
    "df5.shape"
   ]
  },
  {
   "cell_type": "markdown",
   "id": "dfdfb3ae",
   "metadata": {},
   "source": [
    "# Gadget = Lenovo IdeaPad Slim 3 Intel Celeron N4020 4th Gen 15.6\" (39.62cm)"
   ]
  },
  {
   "cell_type": "code",
   "execution_count": 40,
   "id": "c2a85029",
   "metadata": {},
   "outputs": [],
   "source": [
    "driver.get('https://www.amazon.in/Lenovo-IdeaPad-Warranty-Platinum-81WQ00MQIN/product-reviews/B09YJ1Q16L/ref=cm_cr_dp_d_show_all_btm?ie=UTF8&reviewerType=all_reviews')"
   ]
  },
  {
   "cell_type": "code",
   "execution_count": 41,
   "id": "02c2375f",
   "metadata": {},
   "outputs": [],
   "source": [
    "Review6=[]\n",
    "Rating6=[]\n",
    "start=0\n",
    "end=5\n",
    "for page in range(start,end):\n",
    "    review=driver.find_elements(By.XPATH,'//span[@data-hook=\"review-body\"]')\n",
    "    for i in review:\n",
    "        Review6.append(i.text)\n",
    "    lst_of_ratings = driver.find_elements(By.CLASS_NAME, \"review-rating\")\n",
    "    for value in lst_of_ratings[2:]:\n",
    "        rating = value.get_attribute('textContent')\n",
    "        Rating6.append(rating)\n",
    "    driver.find_element(By.XPATH,\".//*[contains(text(),'Next page')]\").click()\n",
    "    time.sleep(3)"
   ]
  },
  {
   "cell_type": "code",
   "execution_count": 42,
   "id": "f9e0d3a9",
   "metadata": {},
   "outputs": [],
   "source": [
    "Ratings6=[item.split('.',1)[0] for item in Rating6]"
   ]
  },
  {
   "cell_type": "code",
   "execution_count": 43,
   "id": "432cb9f6",
   "metadata": {},
   "outputs": [
    {
     "data": {
      "text/html": [
       "<div>\n",
       "<style scoped>\n",
       "    .dataframe tbody tr th:only-of-type {\n",
       "        vertical-align: middle;\n",
       "    }\n",
       "\n",
       "    .dataframe tbody tr th {\n",
       "        vertical-align: top;\n",
       "    }\n",
       "\n",
       "    .dataframe thead th {\n",
       "        text-align: right;\n",
       "    }\n",
       "</style>\n",
       "<table border=\"1\" class=\"dataframe\">\n",
       "  <thead>\n",
       "    <tr style=\"text-align: right;\">\n",
       "      <th></th>\n",
       "      <th>Review</th>\n",
       "      <th>Rating</th>\n",
       "    </tr>\n",
       "  </thead>\n",
       "  <tbody>\n",
       "    <tr>\n",
       "      <th>0</th>\n",
       "      <td>Basic usage like MS office , Browsing it's a g...</td>\n",
       "      <td>4</td>\n",
       "    </tr>\n",
       "    <tr>\n",
       "      <th>1</th>\n",
       "      <td>For kids</td>\n",
       "      <td>4</td>\n",
       "    </tr>\n",
       "    <tr>\n",
       "      <th>2</th>\n",
       "      <td>happy and loving it</td>\n",
       "      <td>4</td>\n",
       "    </tr>\n",
       "    <tr>\n",
       "      <th>3</th>\n",
       "      <td>How one can trust the purchase of goods as I p...</td>\n",
       "      <td>4</td>\n",
       "    </tr>\n",
       "    <tr>\n",
       "      <th>4</th>\n",
       "      <td>Everything is good but the display quality sho...</td>\n",
       "      <td>4</td>\n",
       "    </tr>\n",
       "    <tr>\n",
       "      <th>5</th>\n",
       "      <td>Disappointed as screen is not hd as mentioned ...</td>\n",
       "      <td>4</td>\n",
       "    </tr>\n",
       "    <tr>\n",
       "      <th>6</th>\n",
       "      <td>As the laptop has a limited 256GB total availa...</td>\n",
       "      <td>5</td>\n",
       "    </tr>\n",
       "    <tr>\n",
       "      <th>7</th>\n",
       "      <td>OK GOOD</td>\n",
       "      <td>4</td>\n",
       "    </tr>\n",
       "    <tr>\n",
       "      <th>8</th>\n",
       "      <td>Device is working properly,light weight,lookin...</td>\n",
       "      <td>4</td>\n",
       "    </tr>\n",
       "    <tr>\n",
       "      <th>9</th>\n",
       "      <td>Works ok but slow. Processor may not be ok for...</td>\n",
       "      <td>5</td>\n",
       "    </tr>\n",
       "    <tr>\n",
       "      <th>10</th>\n",
       "      <td>At features and price, this is a good laptop. ...</td>\n",
       "      <td>5</td>\n",
       "    </tr>\n",
       "    <tr>\n",
       "      <th>11</th>\n",
       "      <td>Play Video\\n Laptop is good interms of speed b...</td>\n",
       "      <td>2</td>\n",
       "    </tr>\n",
       "    <tr>\n",
       "      <th>12</th>\n",
       "      <td>Play Video\\n Pros:\\n1.Good laptop within this ...</td>\n",
       "      <td>4</td>\n",
       "    </tr>\n",
       "    <tr>\n",
       "      <th>13</th>\n",
       "      <td>Very nice...</td>\n",
       "      <td>5</td>\n",
       "    </tr>\n",
       "    <tr>\n",
       "      <th>14</th>\n",
       "      <td>so far have purchase 2 pcs and willing to purc...</td>\n",
       "      <td>5</td>\n",
       "    </tr>\n",
       "    <tr>\n",
       "      <th>15</th>\n",
       "      <td>Nice laptop 🥰</td>\n",
       "      <td>4</td>\n",
       "    </tr>\n",
       "    <tr>\n",
       "      <th>16</th>\n",
       "      <td>Good and nice laptop . good for students and o...</td>\n",
       "      <td>4</td>\n",
       "    </tr>\n",
       "    <tr>\n",
       "      <th>17</th>\n",
       "      <td>I am using this laptop from 3 months now.\\nIt ...</td>\n",
       "      <td>5</td>\n",
       "    </tr>\n",
       "    <tr>\n",
       "      <th>18</th>\n",
       "      <td>Ideal for daily use.</td>\n",
       "      <td>4</td>\n",
       "    </tr>\n",
       "    <tr>\n",
       "      <th>19</th>\n",
       "      <td>Good</td>\n",
       "      <td>5</td>\n",
       "    </tr>\n",
       "    <tr>\n",
       "      <th>20</th>\n",
       "      <td></td>\n",
       "      <td>5</td>\n",
       "    </tr>\n",
       "    <tr>\n",
       "      <th>21</th>\n",
       "      <td>Im using this from last 2 months for coding.\\n...</td>\n",
       "      <td>5</td>\n",
       "    </tr>\n",
       "    <tr>\n",
       "      <th>22</th>\n",
       "      <td>In this prize laptop good\\nAnd this laptop goo...</td>\n",
       "      <td>5</td>\n",
       "    </tr>\n",
       "    <tr>\n",
       "      <th>23</th>\n",
       "      <td>Very bad experience</td>\n",
       "      <td>2</td>\n",
       "    </tr>\n",
       "    <tr>\n",
       "      <th>24</th>\n",
       "      <td>I liked it all</td>\n",
       "      <td>5</td>\n",
       "    </tr>\n",
       "    <tr>\n",
       "      <th>25</th>\n",
       "      <td>very bad experience with laptop not even cant ...</td>\n",
       "      <td>1</td>\n",
       "    </tr>\n",
       "    <tr>\n",
       "      <th>26</th>\n",
       "      <td></td>\n",
       "      <td>5</td>\n",
       "    </tr>\n",
       "    <tr>\n",
       "      <th>27</th>\n",
       "      <td>Every time i used it is always overheating it ...</td>\n",
       "      <td>2</td>\n",
       "    </tr>\n",
       "    <tr>\n",
       "      <th>28</th>\n",
       "      <td>ನಾವು ಈ ಲ್ಯಾಪ್ಟಾಪ್ ಅನ್ನು ಆನ್ಲೈನ್ ಸರ್ವಿಸ್ ಗಾಗಿ ಉ...</td>\n",
       "      <td>1</td>\n",
       "    </tr>\n",
       "    <tr>\n",
       "      <th>29</th>\n",
       "      <td>Great product</td>\n",
       "      <td>5</td>\n",
       "    </tr>\n",
       "    <tr>\n",
       "      <th>30</th>\n",
       "      <td>Play Video\\n After BIOS update LAPTOP started ...</td>\n",
       "      <td>2</td>\n",
       "    </tr>\n",
       "    <tr>\n",
       "      <th>31</th>\n",
       "      <td>This is worst laptop I have ever seen in my li...</td>\n",
       "      <td>1</td>\n",
       "    </tr>\n",
       "    <tr>\n",
       "      <th>32</th>\n",
       "      <td>Best leptop in this price range</td>\n",
       "      <td>5</td>\n",
       "    </tr>\n",
       "    <tr>\n",
       "      <th>33</th>\n",
       "      <td>Play Video\\n When I on this, then after 5 minu...</td>\n",
       "      <td>1</td>\n",
       "    </tr>\n",
       "    <tr>\n",
       "      <th>34</th>\n",
       "      <td>The processor was old version. Battery life wa...</td>\n",
       "      <td>1</td>\n",
       "    </tr>\n",
       "    <tr>\n",
       "      <th>35</th>\n",
       "      <td></td>\n",
       "      <td>1</td>\n",
       "    </tr>\n",
       "    <tr>\n",
       "      <th>36</th>\n",
       "      <td>Home beginners is the best carry easy light we...</td>\n",
       "      <td>5</td>\n",
       "    </tr>\n",
       "    <tr>\n",
       "      <th>37</th>\n",
       "      <td>It’s nice</td>\n",
       "      <td>5</td>\n",
       "    </tr>\n",
       "    <tr>\n",
       "      <th>38</th>\n",
       "      <td>Damage product</td>\n",
       "      <td>1</td>\n",
       "    </tr>\n",
       "    <tr>\n",
       "      <th>39</th>\n",
       "      <td>Lenovo laptop is not good by unather laptop l...</td>\n",
       "      <td>1</td>\n",
       "    </tr>\n",
       "    <tr>\n",
       "      <th>40</th>\n",
       "      <td>Suppp</td>\n",
       "      <td>5</td>\n",
       "    </tr>\n",
       "    <tr>\n",
       "      <th>41</th>\n",
       "      <td>Good product for all.my wife loved this produc...</td>\n",
       "      <td>4</td>\n",
       "    </tr>\n",
       "    <tr>\n",
       "      <th>42</th>\n",
       "      <td>The processor is weak, doesn’t fell like 8gb r...</td>\n",
       "      <td>1</td>\n",
       "    </tr>\n",
       "    <tr>\n",
       "      <th>43</th>\n",
       "      <td>Received laptop on 31st July but its charger d...</td>\n",
       "      <td>1</td>\n",
       "    </tr>\n",
       "    <tr>\n",
       "      <th>44</th>\n",
       "      <td>Play Video\\n Device not working,repaired devic...</td>\n",
       "      <td>1</td>\n",
       "    </tr>\n",
       "    <tr>\n",
       "      <th>45</th>\n",
       "      <td>DVD player not</td>\n",
       "      <td>1</td>\n",
       "    </tr>\n",
       "    <tr>\n",
       "      <th>46</th>\n",
       "      <td>The CPU utilization is high most of the times...</td>\n",
       "      <td>1</td>\n",
       "    </tr>\n",
       "    <tr>\n",
       "      <th>47</th>\n",
       "      <td>Plz don't buy this product quantity and produc...</td>\n",
       "      <td>1</td>\n",
       "    </tr>\n",
       "    <tr>\n",
       "      <th>48</th>\n",
       "      <td>Not good</td>\n",
       "      <td>1</td>\n",
       "    </tr>\n",
       "    <tr>\n",
       "      <th>49</th>\n",
       "      <td></td>\n",
       "      <td>5</td>\n",
       "    </tr>\n",
       "  </tbody>\n",
       "</table>\n",
       "</div>"
      ],
      "text/plain": [
       "                                               Review Rating\n",
       "0   Basic usage like MS office , Browsing it's a g...      4\n",
       "1                                            For kids      4\n",
       "2                                 happy and loving it      4\n",
       "3   How one can trust the purchase of goods as I p...      4\n",
       "4   Everything is good but the display quality sho...      4\n",
       "5   Disappointed as screen is not hd as mentioned ...      4\n",
       "6   As the laptop has a limited 256GB total availa...      5\n",
       "7                                             OK GOOD      4\n",
       "8   Device is working properly,light weight,lookin...      4\n",
       "9   Works ok but slow. Processor may not be ok for...      5\n",
       "10  At features and price, this is a good laptop. ...      5\n",
       "11  Play Video\\n Laptop is good interms of speed b...      2\n",
       "12  Play Video\\n Pros:\\n1.Good laptop within this ...      4\n",
       "13                                       Very nice...      5\n",
       "14  so far have purchase 2 pcs and willing to purc...      5\n",
       "15                                      Nice laptop 🥰      4\n",
       "16  Good and nice laptop . good for students and o...      4\n",
       "17  I am using this laptop from 3 months now.\\nIt ...      5\n",
       "18                               Ideal for daily use.      4\n",
       "19                                               Good      5\n",
       "20                                                         5\n",
       "21  Im using this from last 2 months for coding.\\n...      5\n",
       "22  In this prize laptop good\\nAnd this laptop goo...      5\n",
       "23                                Very bad experience      2\n",
       "24                                     I liked it all      5\n",
       "25  very bad experience with laptop not even cant ...      1\n",
       "26                                                         5\n",
       "27  Every time i used it is always overheating it ...      2\n",
       "28  ನಾವು ಈ ಲ್ಯಾಪ್ಟಾಪ್ ಅನ್ನು ಆನ್ಲೈನ್ ಸರ್ವಿಸ್ ಗಾಗಿ ಉ...      1\n",
       "29                                      Great product      5\n",
       "30  Play Video\\n After BIOS update LAPTOP started ...      2\n",
       "31  This is worst laptop I have ever seen in my li...      1\n",
       "32                    Best leptop in this price range      5\n",
       "33  Play Video\\n When I on this, then after 5 minu...      1\n",
       "34  The processor was old version. Battery life wa...      1\n",
       "35                                                         1\n",
       "36  Home beginners is the best carry easy light we...      5\n",
       "37                                          It’s nice      5\n",
       "38                                     Damage product      1\n",
       "39   Lenovo laptop is not good by unather laptop l...      1\n",
       "40                                              Suppp      5\n",
       "41  Good product for all.my wife loved this produc...      4\n",
       "42  The processor is weak, doesn’t fell like 8gb r...      1\n",
       "43  Received laptop on 31st July but its charger d...      1\n",
       "44  Play Video\\n Device not working,repaired devic...      1\n",
       "45                                     DVD player not      1\n",
       "46   The CPU utilization is high most of the times...      1\n",
       "47  Plz don't buy this product quantity and produc...      1\n",
       "48                                           Not good      1\n",
       "49                                                         5"
      ]
     },
     "execution_count": 43,
     "metadata": {},
     "output_type": "execute_result"
    }
   ],
   "source": [
    "df6=pd.DataFrame({'Review':Review6,'Rating':Ratings6})\n",
    "df6"
   ]
  },
  {
   "cell_type": "code",
   "execution_count": 44,
   "id": "7fd61a30",
   "metadata": {},
   "outputs": [
    {
     "data": {
      "text/plain": [
       "(50, 2)"
      ]
     },
     "execution_count": 44,
     "metadata": {},
     "output_type": "execute_result"
    }
   ],
   "source": [
    "df6.shape"
   ]
  },
  {
   "cell_type": "markdown",
   "id": "57d68d10",
   "metadata": {},
   "source": [
    "# Gadget = Canon PIXMA G3000 All-in-One WiFi Ink Tank Colour Printer with 2 Additional Black Ink Bottles"
   ]
  },
  {
   "cell_type": "code",
   "execution_count": 45,
   "id": "03d8a427",
   "metadata": {},
   "outputs": [],
   "source": [
    "driver.get('https://www.amazon.in/Canon-G3000-Wireless-Colour-Printer/product-reviews/B01H25A1AE/ref=cm_cr_dp_d_show_all_btm?ie=UTF8&reviewerType=all_reviews')"
   ]
  },
  {
   "cell_type": "code",
   "execution_count": 46,
   "id": "e485ec17",
   "metadata": {},
   "outputs": [],
   "source": [
    "Review7=[]\n",
    "Rating7=[]\n",
    "start=0\n",
    "end=200\n",
    "for page in range(start,end):\n",
    "    review=driver.find_elements(By.XPATH,'//span[@data-hook=\"review-body\"]')\n",
    "    for i in review:\n",
    "        Review7.append(i.text)\n",
    "    lst_of_ratings = driver.find_elements(By.CLASS_NAME, \"review-rating\")\n",
    "    for value in lst_of_ratings[2:]:\n",
    "        rating = value.get_attribute('textContent')\n",
    "        Rating7.append(rating)\n",
    "    driver.find_element(By.XPATH,\".//*[contains(text(),'Next page')]\").click()\n",
    "    time.sleep(3)"
   ]
  },
  {
   "cell_type": "code",
   "execution_count": 47,
   "id": "a6bc145a",
   "metadata": {},
   "outputs": [],
   "source": [
    "Ratings7=[item.split('.',1)[0] for item in Rating7]"
   ]
  },
  {
   "cell_type": "code",
   "execution_count": 48,
   "id": "0dd8d732",
   "metadata": {},
   "outputs": [
    {
     "data": {
      "text/html": [
       "<div>\n",
       "<style scoped>\n",
       "    .dataframe tbody tr th:only-of-type {\n",
       "        vertical-align: middle;\n",
       "    }\n",
       "\n",
       "    .dataframe tbody tr th {\n",
       "        vertical-align: top;\n",
       "    }\n",
       "\n",
       "    .dataframe thead th {\n",
       "        text-align: right;\n",
       "    }\n",
       "</style>\n",
       "<table border=\"1\" class=\"dataframe\">\n",
       "  <thead>\n",
       "    <tr style=\"text-align: right;\">\n",
       "      <th></th>\n",
       "      <th>Review</th>\n",
       "      <th>Rating</th>\n",
       "    </tr>\n",
       "  </thead>\n",
       "  <tbody>\n",
       "    <tr>\n",
       "      <th>0</th>\n",
       "      <td>Well it compete with top brands of Epson &amp; HP ...</td>\n",
       "      <td>4</td>\n",
       "    </tr>\n",
       "    <tr>\n",
       "      <th>1</th>\n",
       "      <td>After having frustrating experience with HP pr...</td>\n",
       "      <td>3</td>\n",
       "    </tr>\n",
       "    <tr>\n",
       "      <th>2</th>\n",
       "      <td>1. Time to get print,\\nBlack and white - 5-6 s...</td>\n",
       "      <td>4</td>\n",
       "    </tr>\n",
       "    <tr>\n",
       "      <th>3</th>\n",
       "      <td>Nice product..easy installation</td>\n",
       "      <td>4</td>\n",
       "    </tr>\n",
       "    <tr>\n",
       "      <th>4</th>\n",
       "      <td>I have bee using Canon PixmaG 300 since few ye...</td>\n",
       "      <td>5</td>\n",
       "    </tr>\n",
       "    <tr>\n",
       "      <th>...</th>\n",
       "      <td>...</td>\n",
       "      <td>...</td>\n",
       "    </tr>\n",
       "    <tr>\n",
       "      <th>1995</th>\n",
       "      <td>Super printer</td>\n",
       "      <td>5</td>\n",
       "    </tr>\n",
       "    <tr>\n",
       "      <th>1996</th>\n",
       "      <td>Printing quality is good as per my homely requ...</td>\n",
       "      <td>5</td>\n",
       "    </tr>\n",
       "    <tr>\n",
       "      <th>1997</th>\n",
       "      <td>Awesome</td>\n",
       "      <td>5</td>\n",
       "    </tr>\n",
       "    <tr>\n",
       "      <th>1998</th>\n",
       "      <td>Very good printer for personal use as well as ...</td>\n",
       "      <td>5</td>\n",
       "    </tr>\n",
       "    <tr>\n",
       "      <th>1999</th>\n",
       "      <td>user experience is good so as print quality.</td>\n",
       "      <td>5</td>\n",
       "    </tr>\n",
       "  </tbody>\n",
       "</table>\n",
       "<p>2000 rows × 2 columns</p>\n",
       "</div>"
      ],
      "text/plain": [
       "                                                 Review Rating\n",
       "0     Well it compete with top brands of Epson & HP ...      4\n",
       "1     After having frustrating experience with HP pr...      3\n",
       "2     1. Time to get print,\\nBlack and white - 5-6 s...      4\n",
       "3                       Nice product..easy installation      4\n",
       "4     I have bee using Canon PixmaG 300 since few ye...      5\n",
       "...                                                 ...    ...\n",
       "1995                                      Super printer      5\n",
       "1996  Printing quality is good as per my homely requ...      5\n",
       "1997                                            Awesome      5\n",
       "1998  Very good printer for personal use as well as ...      5\n",
       "1999       user experience is good so as print quality.      5\n",
       "\n",
       "[2000 rows x 2 columns]"
      ]
     },
     "execution_count": 48,
     "metadata": {},
     "output_type": "execute_result"
    }
   ],
   "source": [
    "df7=pd.DataFrame({'Review':Review7,'Rating':Ratings7})\n",
    "df7"
   ]
  },
  {
   "cell_type": "code",
   "execution_count": 49,
   "id": "79fb5669",
   "metadata": {},
   "outputs": [
    {
     "data": {
      "text/plain": [
       "(2000, 2)"
      ]
     },
     "execution_count": 49,
     "metadata": {},
     "output_type": "execute_result"
    }
   ],
   "source": [
    "df7.shape"
   ]
  },
  {
   "cell_type": "markdown",
   "id": "adaf0d50",
   "metadata": {},
   "source": [
    "# Gadget = HP Deskjet 2331 Colour Printer"
   ]
  },
  {
   "cell_type": "code",
   "execution_count": 54,
   "id": "47ab51b8",
   "metadata": {},
   "outputs": [],
   "source": [
    "driver=webdriver.Chrome(r\"C:\\Users\\91994\\Desktop\\DRiver\\chromedriver.exe\")"
   ]
  },
  {
   "cell_type": "code",
   "execution_count": 55,
   "id": "5ff014cf",
   "metadata": {},
   "outputs": [],
   "source": [
    "driver.get('https://www.amazon.in/HP-DeskJet-Inkjet-Colour-Printer/product-reviews/B08D9NDZ1Y/ref=cm_cr_dp_d_show_all_btm?ie=UTF8&reviewerType=all_reviews')"
   ]
  },
  {
   "cell_type": "code",
   "execution_count": 56,
   "id": "a4da563f",
   "metadata": {},
   "outputs": [],
   "source": [
    "Review8=[]\n",
    "Rating8=[]\n",
    "start=0\n",
    "end=250\n",
    "for page in range(start,end):\n",
    "    review=driver.find_elements(By.XPATH,'//span[@data-hook=\"review-body\"]')\n",
    "    for i in review:\n",
    "        Review8.append(i.text)\n",
    "    lst_of_ratings = driver.find_elements(By.CLASS_NAME, \"review-rating\")\n",
    "    for value in lst_of_ratings[2:]:\n",
    "        rating = value.get_attribute('textContent')\n",
    "        Rating8.append(rating)\n",
    "    driver.find_element(By.XPATH,\".//*[contains(text(),'Next page')]\").click()\n",
    "    time.sleep(3)"
   ]
  },
  {
   "cell_type": "code",
   "execution_count": 57,
   "id": "68140602",
   "metadata": {},
   "outputs": [],
   "source": [
    "Ratings8=[item.split('.',1)[0] for item in Rating8]"
   ]
  },
  {
   "cell_type": "code",
   "execution_count": 58,
   "id": "ccab27c5",
   "metadata": {},
   "outputs": [
    {
     "data": {
      "text/html": [
       "<div>\n",
       "<style scoped>\n",
       "    .dataframe tbody tr th:only-of-type {\n",
       "        vertical-align: middle;\n",
       "    }\n",
       "\n",
       "    .dataframe tbody tr th {\n",
       "        vertical-align: top;\n",
       "    }\n",
       "\n",
       "    .dataframe thead th {\n",
       "        text-align: right;\n",
       "    }\n",
       "</style>\n",
       "<table border=\"1\" class=\"dataframe\">\n",
       "  <thead>\n",
       "    <tr style=\"text-align: right;\">\n",
       "      <th></th>\n",
       "      <th>Review</th>\n",
       "      <th>Rating</th>\n",
       "    </tr>\n",
       "  </thead>\n",
       "  <tbody>\n",
       "    <tr>\n",
       "      <th>0</th>\n",
       "      <td>CAUTION: hp ink catridges are infamous for ink...</td>\n",
       "      <td>4</td>\n",
       "    </tr>\n",
       "    <tr>\n",
       "      <th>1</th>\n",
       "      <td>Super printer but ink will get empty fast and ...</td>\n",
       "      <td>4</td>\n",
       "    </tr>\n",
       "    <tr>\n",
       "      <th>2</th>\n",
       "      <td>I'm using with mobile for printing only, and a...</td>\n",
       "      <td>4</td>\n",
       "    </tr>\n",
       "    <tr>\n",
       "      <th>3</th>\n",
       "      <td>Easy to install and use but less pages per car...</td>\n",
       "      <td>4</td>\n",
       "    </tr>\n",
       "    <tr>\n",
       "      <th>4</th>\n",
       "      <td>I dont know why HP has given such a Poor scan ...</td>\n",
       "      <td>3</td>\n",
       "    </tr>\n",
       "    <tr>\n",
       "      <th>...</th>\n",
       "      <td>...</td>\n",
       "      <td>...</td>\n",
       "    </tr>\n",
       "    <tr>\n",
       "      <th>2495</th>\n",
       "      <td>I received my printer today. The Cartridges pa...</td>\n",
       "      <td>1</td>\n",
       "    </tr>\n",
       "    <tr>\n",
       "      <th>2496</th>\n",
       "      <td>Good printing and scan copy</td>\n",
       "      <td>4</td>\n",
       "    </tr>\n",
       "    <tr>\n",
       "      <th>2497</th>\n",
       "      <td>Good printer with good printing quality</td>\n",
       "      <td>5</td>\n",
       "    </tr>\n",
       "    <tr>\n",
       "      <th>2498</th>\n",
       "      <td>Nice</td>\n",
       "      <td>4</td>\n",
       "    </tr>\n",
       "    <tr>\n",
       "      <th>2499</th>\n",
       "      <td>good product</td>\n",
       "      <td>5</td>\n",
       "    </tr>\n",
       "  </tbody>\n",
       "</table>\n",
       "<p>2500 rows × 2 columns</p>\n",
       "</div>"
      ],
      "text/plain": [
       "                                                 Review Rating\n",
       "0     CAUTION: hp ink catridges are infamous for ink...      4\n",
       "1     Super printer but ink will get empty fast and ...      4\n",
       "2     I'm using with mobile for printing only, and a...      4\n",
       "3     Easy to install and use but less pages per car...      4\n",
       "4     I dont know why HP has given such a Poor scan ...      3\n",
       "...                                                 ...    ...\n",
       "2495  I received my printer today. The Cartridges pa...      1\n",
       "2496                        Good printing and scan copy      4\n",
       "2497            Good printer with good printing quality      5\n",
       "2498                                               Nice      4\n",
       "2499                                       good product      5\n",
       "\n",
       "[2500 rows x 2 columns]"
      ]
     },
     "execution_count": 58,
     "metadata": {},
     "output_type": "execute_result"
    }
   ],
   "source": [
    "df8=pd.DataFrame({'Review':Review8,'Rating':Ratings8})\n",
    "df8"
   ]
  },
  {
   "cell_type": "code",
   "execution_count": 59,
   "id": "6b3f1a98",
   "metadata": {},
   "outputs": [
    {
     "data": {
      "text/plain": [
       "(2500, 2)"
      ]
     },
     "execution_count": 59,
     "metadata": {},
     "output_type": "execute_result"
    }
   ],
   "source": [
    "df8.shape"
   ]
  },
  {
   "cell_type": "markdown",
   "id": "b5eae9bc",
   "metadata": {},
   "source": [
    "# Gadget = Canon E4570 All-in-One Wi-Fi Ink Efficient Colour Printer"
   ]
  },
  {
   "cell_type": "code",
   "execution_count": 61,
   "id": "706bbbdf",
   "metadata": {},
   "outputs": [],
   "source": [
    "driver=webdriver.Chrome(r\"C:\\Users\\91994\\Desktop\\DRiver\\chromedriver.exe\")"
   ]
  },
  {
   "cell_type": "code",
   "execution_count": 64,
   "id": "d6a05f88",
   "metadata": {},
   "outputs": [],
   "source": [
    "driver.get('https://www.amazon.in/Canon-E4570-Efficient-Printing-Compatible/product-reviews/B09F5Z694W/ref=cm_cr_dp_d_show_all_btm?ie=UTF8&reviewerType=all_reviews')"
   ]
  },
  {
   "cell_type": "code",
   "execution_count": 65,
   "id": "4dccdd91",
   "metadata": {},
   "outputs": [],
   "source": [
    "Review9=[]\n",
    "Rating9=[]\n",
    "start=0\n",
    "end=85\n",
    "for page in range(start,end):\n",
    "    review=driver.find_elements(By.XPATH,'//span[@data-hook=\"review-body\"]')\n",
    "    for i in review:\n",
    "        Review9.append(i.text)\n",
    "    lst_of_ratings = driver.find_elements(By.CLASS_NAME, \"review-rating\")\n",
    "    for value in lst_of_ratings[2:]:\n",
    "        rating = value.get_attribute('textContent')\n",
    "        Rating9.append(rating)\n",
    "    driver.find_element(By.XPATH,\".//*[contains(text(),'Next page')]\").click()\n",
    "    time.sleep(3)"
   ]
  },
  {
   "cell_type": "code",
   "execution_count": 66,
   "id": "7be8f8d0",
   "metadata": {},
   "outputs": [],
   "source": [
    "Ratings9=[item.split('.',1)[0] for item in Rating9]"
   ]
  },
  {
   "cell_type": "code",
   "execution_count": 67,
   "id": "59ccf427",
   "metadata": {},
   "outputs": [
    {
     "data": {
      "text/html": [
       "<div>\n",
       "<style scoped>\n",
       "    .dataframe tbody tr th:only-of-type {\n",
       "        vertical-align: middle;\n",
       "    }\n",
       "\n",
       "    .dataframe tbody tr th {\n",
       "        vertical-align: top;\n",
       "    }\n",
       "\n",
       "    .dataframe thead th {\n",
       "        text-align: right;\n",
       "    }\n",
       "</style>\n",
       "<table border=\"1\" class=\"dataframe\">\n",
       "  <thead>\n",
       "    <tr style=\"text-align: right;\">\n",
       "      <th></th>\n",
       "      <th>Review</th>\n",
       "      <th>Rating</th>\n",
       "    </tr>\n",
       "  </thead>\n",
       "  <tbody>\n",
       "    <tr>\n",
       "      <th>0</th>\n",
       "      <td>This printer is excellent in terms of function...</td>\n",
       "      <td>4</td>\n",
       "    </tr>\n",
       "    <tr>\n",
       "      <th>1</th>\n",
       "      <td>If you are purchasing it for your home use, do...</td>\n",
       "      <td>4</td>\n",
       "    </tr>\n",
       "    <tr>\n",
       "      <th>2</th>\n",
       "      <td>I bought this item in August 2022, and the del...</td>\n",
       "      <td>4</td>\n",
       "    </tr>\n",
       "    <tr>\n",
       "      <th>3</th>\n",
       "      <td>Add Light in LED Display for use in lightless ...</td>\n",
       "      <td>4</td>\n",
       "    </tr>\n",
       "    <tr>\n",
       "      <th>4</th>\n",
       "      <td>Cannon E4570.\\nThis was launched as a successo...</td>\n",
       "      <td>4</td>\n",
       "    </tr>\n",
       "    <tr>\n",
       "      <th>...</th>\n",
       "      <td>...</td>\n",
       "      <td>...</td>\n",
       "    </tr>\n",
       "    <tr>\n",
       "      <th>845</th>\n",
       "      <td>There is no option for zero rating, thats why ...</td>\n",
       "      <td>1</td>\n",
       "    </tr>\n",
       "    <tr>\n",
       "      <th>846</th>\n",
       "      <td>Printer is OK, but cartridge is so expensive p...</td>\n",
       "      <td>1</td>\n",
       "    </tr>\n",
       "    <tr>\n",
       "      <th>847</th>\n",
       "      <td>Porr poor only 10 print after ink empty</td>\n",
       "      <td>1</td>\n",
       "    </tr>\n",
       "    <tr>\n",
       "      <th>848</th>\n",
       "      <td>Don't buy it bcz refill ink process is more co...</td>\n",
       "      <td>1</td>\n",
       "    </tr>\n",
       "    <tr>\n",
       "      <th>849</th>\n",
       "      <td>Printing quality is not good..very poor\\nI wan...</td>\n",
       "      <td>1</td>\n",
       "    </tr>\n",
       "  </tbody>\n",
       "</table>\n",
       "<p>850 rows × 2 columns</p>\n",
       "</div>"
      ],
      "text/plain": [
       "                                                Review Rating\n",
       "0    This printer is excellent in terms of function...      4\n",
       "1    If you are purchasing it for your home use, do...      4\n",
       "2    I bought this item in August 2022, and the del...      4\n",
       "3    Add Light in LED Display for use in lightless ...      4\n",
       "4    Cannon E4570.\\nThis was launched as a successo...      4\n",
       "..                                                 ...    ...\n",
       "845  There is no option for zero rating, thats why ...      1\n",
       "846  Printer is OK, but cartridge is so expensive p...      1\n",
       "847            Porr poor only 10 print after ink empty      1\n",
       "848  Don't buy it bcz refill ink process is more co...      1\n",
       "849  Printing quality is not good..very poor\\nI wan...      1\n",
       "\n",
       "[850 rows x 2 columns]"
      ]
     },
     "execution_count": 67,
     "metadata": {},
     "output_type": "execute_result"
    }
   ],
   "source": [
    "df9=pd.DataFrame({'Review':Review9,'Rating':Ratings9})\n",
    "df9"
   ]
  },
  {
   "cell_type": "code",
   "execution_count": 72,
   "id": "bca649af",
   "metadata": {},
   "outputs": [],
   "source": [
    "driver.close()"
   ]
  },
  {
   "cell_type": "code",
   "execution_count": 69,
   "id": "ca8618aa",
   "metadata": {},
   "outputs": [
    {
     "data": {
      "text/plain": [
       "(850, 2)"
      ]
     },
     "execution_count": 69,
     "metadata": {},
     "output_type": "execute_result"
    }
   ],
   "source": [
    "df9.shape"
   ]
  },
  {
   "cell_type": "code",
   "execution_count": 70,
   "id": "06d170a4",
   "metadata": {},
   "outputs": [
    {
     "data": {
      "text/plain": [
       "(8092, 2)"
      ]
     },
     "execution_count": 70,
     "metadata": {},
     "output_type": "execute_result"
    }
   ],
   "source": [
    "Final_df1=pd.concat([df,df1,df2,df3,df4,df5,df6,df7,df8,df9], axis=0)\n",
    "Final_df1.shape"
   ]
  },
  {
   "cell_type": "code",
   "execution_count": 71,
   "id": "40467382",
   "metadata": {},
   "outputs": [],
   "source": [
    "Final_df1.to_csv('Ratings_final_df1.csv')"
   ]
  },
  {
   "cell_type": "markdown",
   "id": "9035c2c9",
   "metadata": {},
   "source": [
    "# Gadget = Sony INZONE H3, MDR-G300 Wired Gaming Headset"
   ]
  },
  {
   "cell_type": "code",
   "execution_count": 38,
   "id": "b82ea41c",
   "metadata": {},
   "outputs": [],
   "source": [
    "driver=webdriver.Chrome(r\"C:\\Users\\91994\\Desktop\\DRiver\\chromedriver.exe\")"
   ]
  },
  {
   "cell_type": "code",
   "execution_count": 39,
   "id": "efdb4add",
   "metadata": {},
   "outputs": [],
   "source": [
    "driver.get('https://www.amazon.in/Rockerz-370-Headphone-Bluetooth-Lightweight/product-reviews/B0856HNMR7/ref=cm_cr_dp_d_show_all_btm?ie=UTF8&reviewerType=all_reviews')"
   ]
  },
  {
   "cell_type": "code",
   "execution_count": 40,
   "id": "2583e921",
   "metadata": {},
   "outputs": [],
   "source": [
    "Review10=[]\n",
    "Rating10=[]\n",
    "start=0\n",
    "end=150\n",
    "for page in range(start,end):\n",
    "    review=driver.find_elements(By.XPATH,'//span[@data-hook=\"review-body\"]')\n",
    "    for i in review:\n",
    "        Review10.append(i.text)\n",
    "    lst_of_ratings = driver.find_elements(By.CLASS_NAME, \"review-rating\")\n",
    "    for value in lst_of_ratings[2:]:\n",
    "        rating = value.get_attribute('textContent')\n",
    "        Rating10.append(rating)\n",
    "    driver.find_element(By.XPATH,\".//*[contains(text(),'Next page')]\").click()\n",
    "    time.sleep(3)"
   ]
  },
  {
   "cell_type": "code",
   "execution_count": 41,
   "id": "a0c9a8e0",
   "metadata": {},
   "outputs": [],
   "source": [
    "Ratings10=[item.split('.',1)[0] for item in Rating10]"
   ]
  },
  {
   "cell_type": "code",
   "execution_count": 42,
   "id": "dbdab063",
   "metadata": {},
   "outputs": [
    {
     "data": {
      "text/html": [
       "<div>\n",
       "<style scoped>\n",
       "    .dataframe tbody tr th:only-of-type {\n",
       "        vertical-align: middle;\n",
       "    }\n",
       "\n",
       "    .dataframe tbody tr th {\n",
       "        vertical-align: top;\n",
       "    }\n",
       "\n",
       "    .dataframe thead th {\n",
       "        text-align: right;\n",
       "    }\n",
       "</style>\n",
       "<table border=\"1\" class=\"dataframe\">\n",
       "  <thead>\n",
       "    <tr style=\"text-align: right;\">\n",
       "      <th></th>\n",
       "      <th>Review</th>\n",
       "      <th>Rating</th>\n",
       "    </tr>\n",
       "  </thead>\n",
       "  <tbody>\n",
       "    <tr>\n",
       "      <th>0</th>\n",
       "      <td>You get what you pay for. The sound quality an...</td>\n",
       "      <td>4</td>\n",
       "    </tr>\n",
       "    <tr>\n",
       "      <th>1</th>\n",
       "      <td>Thing is good sound is awesome\\nBut the qualit...</td>\n",
       "      <td>4</td>\n",
       "    </tr>\n",
       "    <tr>\n",
       "      <th>2</th>\n",
       "      <td>I received a product which is having scratches...</td>\n",
       "      <td>4</td>\n",
       "    </tr>\n",
       "    <tr>\n",
       "      <th>3</th>\n",
       "      <td>More than 1 Month used superb Battery Backup. ...</td>\n",
       "      <td>4</td>\n",
       "    </tr>\n",
       "    <tr>\n",
       "      <th>4</th>\n",
       "      <td>Mic &amp; Bass aren't t so good.</td>\n",
       "      <td>4</td>\n",
       "    </tr>\n",
       "    <tr>\n",
       "      <th>...</th>\n",
       "      <td>...</td>\n",
       "      <td>...</td>\n",
       "    </tr>\n",
       "    <tr>\n",
       "      <th>1495</th>\n",
       "      <td>The headphone was good in terms of sound quali...</td>\n",
       "      <td>1</td>\n",
       "    </tr>\n",
       "    <tr>\n",
       "      <th>1496</th>\n",
       "      <td>Best option i would recommend you to try if yo...</td>\n",
       "      <td>5</td>\n",
       "    </tr>\n",
       "    <tr>\n",
       "      <th>1497</th>\n",
       "      <td>0 for comfort totally waste of money</td>\n",
       "      <td>1</td>\n",
       "    </tr>\n",
       "    <tr>\n",
       "      <th>1498</th>\n",
       "      <td>build quality is very bad this product afer 1 ...</td>\n",
       "      <td>2</td>\n",
       "    </tr>\n",
       "    <tr>\n",
       "      <th>1499</th>\n",
       "      <td>Product was good but after normal usage of on...</td>\n",
       "      <td>3</td>\n",
       "    </tr>\n",
       "  </tbody>\n",
       "</table>\n",
       "<p>1500 rows × 2 columns</p>\n",
       "</div>"
      ],
      "text/plain": [
       "                                                 Review Rating\n",
       "0     You get what you pay for. The sound quality an...      4\n",
       "1     Thing is good sound is awesome\\nBut the qualit...      4\n",
       "2     I received a product which is having scratches...      4\n",
       "3     More than 1 Month used superb Battery Backup. ...      4\n",
       "4                          Mic & Bass aren't t so good.      4\n",
       "...                                                 ...    ...\n",
       "1495  The headphone was good in terms of sound quali...      1\n",
       "1496  Best option i would recommend you to try if yo...      5\n",
       "1497               0 for comfort totally waste of money      1\n",
       "1498  build quality is very bad this product afer 1 ...      2\n",
       "1499   Product was good but after normal usage of on...      3\n",
       "\n",
       "[1500 rows x 2 columns]"
      ]
     },
     "execution_count": 42,
     "metadata": {},
     "output_type": "execute_result"
    }
   ],
   "source": [
    "df10=pd.DataFrame({'Review':Review10,'Rating':Ratings10})\n",
    "df10"
   ]
  },
  {
   "cell_type": "code",
   "execution_count": 43,
   "id": "6b280e32",
   "metadata": {},
   "outputs": [
    {
     "data": {
      "text/plain": [
       "(1500, 2)"
      ]
     },
     "execution_count": 43,
     "metadata": {},
     "output_type": "execute_result"
    }
   ],
   "source": [
    "df10.shape"
   ]
  },
  {
   "cell_type": "code",
   "execution_count": 44,
   "id": "4dc788b9",
   "metadata": {},
   "outputs": [],
   "source": [
    "driver.close()"
   ]
  },
  {
   "cell_type": "markdown",
   "id": "1c3063f4",
   "metadata": {},
   "source": [
    "# Gadget = Noise Buds VS402 Truly Wireless in Ear Earbuds with 35-Hours of Playtime"
   ]
  },
  {
   "cell_type": "code",
   "execution_count": 45,
   "id": "f9c8823b",
   "metadata": {},
   "outputs": [],
   "source": [
    "driver=webdriver.Chrome(r\"C:\\Users\\91994\\Desktop\\DRiver\\chromedriver.exe\")"
   ]
  },
  {
   "cell_type": "code",
   "execution_count": 46,
   "id": "c3ddc322",
   "metadata": {},
   "outputs": [],
   "source": [
    "driver.get('https://www.amazon.in/Noise-Wireless-Instacharge-Bluetooth-Breathing/product-reviews/B0B51CFSC3/ref=cm_cr_dp_d_show_all_btm?ie=UTF8&reviewerType=all_reviews')"
   ]
  },
  {
   "cell_type": "code",
   "execution_count": 47,
   "id": "37918824",
   "metadata": {},
   "outputs": [],
   "source": [
    "Review11=[]\n",
    "Rating11=[]\n",
    "start=0\n",
    "end=100\n",
    "for page in range(start,end):\n",
    "    review=driver.find_elements(By.XPATH,'//span[@data-hook=\"review-body\"]')\n",
    "    for i in review:\n",
    "        Review11.append(i.text)\n",
    "    lst_of_ratings = driver.find_elements(By.CLASS_NAME, \"review-rating\")\n",
    "    for value in lst_of_ratings[2:]:\n",
    "        rating = value.get_attribute('textContent')\n",
    "        Rating11.append(rating)\n",
    "    driver.find_element(By.XPATH,\".//*[contains(text(),'Next page')]\").click()\n",
    "    time.sleep(3)"
   ]
  },
  {
   "cell_type": "code",
   "execution_count": 48,
   "id": "e4040eca",
   "metadata": {},
   "outputs": [],
   "source": [
    "Ratings11=[item.split('.',1)[0] for item in Rating11]"
   ]
  },
  {
   "cell_type": "code",
   "execution_count": 49,
   "id": "710425dc",
   "metadata": {},
   "outputs": [
    {
     "data": {
      "text/html": [
       "<div>\n",
       "<style scoped>\n",
       "    .dataframe tbody tr th:only-of-type {\n",
       "        vertical-align: middle;\n",
       "    }\n",
       "\n",
       "    .dataframe tbody tr th {\n",
       "        vertical-align: top;\n",
       "    }\n",
       "\n",
       "    .dataframe thead th {\n",
       "        text-align: right;\n",
       "    }\n",
       "</style>\n",
       "<table border=\"1\" class=\"dataframe\">\n",
       "  <thead>\n",
       "    <tr style=\"text-align: right;\">\n",
       "      <th></th>\n",
       "      <th>Review</th>\n",
       "      <th>Rating</th>\n",
       "    </tr>\n",
       "  </thead>\n",
       "  <tbody>\n",
       "    <tr>\n",
       "      <th>0</th>\n",
       "      <td>It will be better if you add transperency mode...</td>\n",
       "      <td>4</td>\n",
       "    </tr>\n",
       "    <tr>\n",
       "      <th>1</th>\n",
       "      <td>Sound quality is good. Sometimes the person at...</td>\n",
       "      <td>4</td>\n",
       "    </tr>\n",
       "    <tr>\n",
       "      <th>2</th>\n",
       "      <td>I brought it because of good service they prov...</td>\n",
       "      <td>4</td>\n",
       "    </tr>\n",
       "    <tr>\n",
       "      <th>3</th>\n",
       "      <td>Too much bass but the rest is best as always ....</td>\n",
       "      <td>4</td>\n",
       "    </tr>\n",
       "    <tr>\n",
       "      <th>4</th>\n",
       "      <td>The sound quality and the performance includin...</td>\n",
       "      <td>4</td>\n",
       "    </tr>\n",
       "    <tr>\n",
       "      <th>...</th>\n",
       "      <td>...</td>\n",
       "      <td>...</td>\n",
       "    </tr>\n",
       "    <tr>\n",
       "      <th>995</th>\n",
       "      <td>I have ordered for a replacement let's see. Hi...</td>\n",
       "      <td>1</td>\n",
       "    </tr>\n",
       "    <tr>\n",
       "      <th>996</th>\n",
       "      <td>Earbud's Bluetooth was not detected by any of ...</td>\n",
       "      <td>1</td>\n",
       "    </tr>\n",
       "    <tr>\n",
       "      <th>997</th>\n",
       "      <td>It doesn't function at all. First one didn't f...</td>\n",
       "      <td>1</td>\n",
       "    </tr>\n",
       "    <tr>\n",
       "      <th>998</th>\n",
       "      <td>I keep it them in almost 1 hour , my ears are ...</td>\n",
       "      <td>1</td>\n",
       "    </tr>\n",
       "    <tr>\n",
       "      <th>999</th>\n",
       "      <td>Bought this noise company earbud thinking it w...</td>\n",
       "      <td>1</td>\n",
       "    </tr>\n",
       "  </tbody>\n",
       "</table>\n",
       "<p>1000 rows × 2 columns</p>\n",
       "</div>"
      ],
      "text/plain": [
       "                                                Review Rating\n",
       "0    It will be better if you add transperency mode...      4\n",
       "1    Sound quality is good. Sometimes the person at...      4\n",
       "2    I brought it because of good service they prov...      4\n",
       "3    Too much bass but the rest is best as always ....      4\n",
       "4    The sound quality and the performance includin...      4\n",
       "..                                                 ...    ...\n",
       "995  I have ordered for a replacement let's see. Hi...      1\n",
       "996  Earbud's Bluetooth was not detected by any of ...      1\n",
       "997  It doesn't function at all. First one didn't f...      1\n",
       "998  I keep it them in almost 1 hour , my ears are ...      1\n",
       "999  Bought this noise company earbud thinking it w...      1\n",
       "\n",
       "[1000 rows x 2 columns]"
      ]
     },
     "execution_count": 49,
     "metadata": {},
     "output_type": "execute_result"
    }
   ],
   "source": [
    "df11=pd.DataFrame({'Review':Review11,'Rating':Ratings11})\n",
    "df11"
   ]
  },
  {
   "cell_type": "code",
   "execution_count": 50,
   "id": "64829b6c",
   "metadata": {},
   "outputs": [
    {
     "data": {
      "text/plain": [
       "(1000, 2)"
      ]
     },
     "execution_count": 50,
     "metadata": {},
     "output_type": "execute_result"
    }
   ],
   "source": [
    "df11.shape"
   ]
  },
  {
   "cell_type": "code",
   "execution_count": 51,
   "id": "b2460fec",
   "metadata": {},
   "outputs": [],
   "source": [
    "driver.close()"
   ]
  },
  {
   "cell_type": "markdown",
   "id": "224d5303",
   "metadata": {},
   "source": [
    "# Gadget = BenQ GW2480 24-inch (60.5 cm) 1080p FHD Eye-Care Monitor"
   ]
  },
  {
   "cell_type": "code",
   "execution_count": 52,
   "id": "0d9b7cdb",
   "metadata": {},
   "outputs": [],
   "source": [
    "driver=webdriver.Chrome(r\"C:\\Users\\91994\\Desktop\\DRiver\\chromedriver.exe\")"
   ]
  },
  {
   "cell_type": "code",
   "execution_count": 53,
   "id": "8c0a7049",
   "metadata": {},
   "outputs": [],
   "source": [
    "driver.get('https://www.amazon.in/BenQ-23-8-inch-Monitor-Built/product-reviews/B073NTCT4Q/ref=cm_cr_dp_d_show_all_btm?ie=UTF8&reviewerType=all_reviews')"
   ]
  },
  {
   "cell_type": "code",
   "execution_count": 54,
   "id": "b3022ffb",
   "metadata": {},
   "outputs": [],
   "source": [
    "Review12=[]\n",
    "Rating12=[]\n",
    "start=0\n",
    "end=200\n",
    "for page in range(start,end):\n",
    "    review=driver.find_elements(By.XPATH,'//span[@data-hook=\"review-body\"]')\n",
    "    for i in review:\n",
    "        Review12.append(i.text)\n",
    "    lst_of_ratings = driver.find_elements(By.CLASS_NAME, \"review-rating\")\n",
    "    for value in lst_of_ratings[2:]:\n",
    "        rating = value.get_attribute('textContent')\n",
    "        Rating12.append(rating)\n",
    "    driver.find_element(By.XPATH,\".//*[contains(text(),'Next page')]\").click()\n",
    "    time.sleep(3)"
   ]
  },
  {
   "cell_type": "code",
   "execution_count": 55,
   "id": "a95a559a",
   "metadata": {},
   "outputs": [],
   "source": [
    "Ratings12=[item.split('.',1)[0] for item in Rating12]"
   ]
  },
  {
   "cell_type": "code",
   "execution_count": 56,
   "id": "223bba25",
   "metadata": {},
   "outputs": [
    {
     "data": {
      "text/html": [
       "<div>\n",
       "<style scoped>\n",
       "    .dataframe tbody tr th:only-of-type {\n",
       "        vertical-align: middle;\n",
       "    }\n",
       "\n",
       "    .dataframe tbody tr th {\n",
       "        vertical-align: top;\n",
       "    }\n",
       "\n",
       "    .dataframe thead th {\n",
       "        text-align: right;\n",
       "    }\n",
       "</style>\n",
       "<table border=\"1\" class=\"dataframe\">\n",
       "  <thead>\n",
       "    <tr style=\"text-align: right;\">\n",
       "      <th></th>\n",
       "      <th>Review</th>\n",
       "      <th>Rating</th>\n",
       "    </tr>\n",
       "  </thead>\n",
       "  <tbody>\n",
       "    <tr>\n",
       "      <th>0</th>\n",
       "      <td>I bought it in the month of oct 22, i got deli...</td>\n",
       "      <td>4</td>\n",
       "    </tr>\n",
       "    <tr>\n",
       "      <th>1</th>\n",
       "      <td>Got this @11800\\nOkay for the price I paid. I ...</td>\n",
       "      <td>4</td>\n",
       "    </tr>\n",
       "    <tr>\n",
       "      <th>2</th>\n",
       "      <td>Monitor is stylish on aesthetic terms. Perfor...</td>\n",
       "      <td>4</td>\n",
       "    </tr>\n",
       "    <tr>\n",
       "      <th>3</th>\n",
       "      <td>Editing, gaming, office work</td>\n",
       "      <td>4</td>\n",
       "    </tr>\n",
       "    <tr>\n",
       "      <th>4</th>\n",
       "      <td>Speaker could have better. Build and picture q...</td>\n",
       "      <td>4</td>\n",
       "    </tr>\n",
       "    <tr>\n",
       "      <th>...</th>\n",
       "      <td>...</td>\n",
       "      <td>...</td>\n",
       "    </tr>\n",
       "    <tr>\n",
       "      <th>1994</th>\n",
       "      <td>I bought this monitor specifically for its low...</td>\n",
       "      <td>5</td>\n",
       "    </tr>\n",
       "    <tr>\n",
       "      <th>1995</th>\n",
       "      <td>I love this product</td>\n",
       "      <td>5</td>\n",
       "    </tr>\n",
       "    <tr>\n",
       "      <th>1996</th>\n",
       "      <td>Quality in terms of color, resolution and view...</td>\n",
       "      <td>5</td>\n",
       "    </tr>\n",
       "    <tr>\n",
       "      <th>1997</th>\n",
       "      <td>Perfect for longer hours of online work. This ...</td>\n",
       "      <td>5</td>\n",
       "    </tr>\n",
       "    <tr>\n",
       "      <th>1998</th>\n",
       "      <td>Very good</td>\n",
       "      <td>5</td>\n",
       "    </tr>\n",
       "  </tbody>\n",
       "</table>\n",
       "<p>1999 rows × 2 columns</p>\n",
       "</div>"
      ],
      "text/plain": [
       "                                                 Review Rating\n",
       "0     I bought it in the month of oct 22, i got deli...      4\n",
       "1     Got this @11800\\nOkay for the price I paid. I ...      4\n",
       "2      Monitor is stylish on aesthetic terms. Perfor...      4\n",
       "3                          Editing, gaming, office work      4\n",
       "4     Speaker could have better. Build and picture q...      4\n",
       "...                                                 ...    ...\n",
       "1994  I bought this monitor specifically for its low...      5\n",
       "1995                                I love this product      5\n",
       "1996  Quality in terms of color, resolution and view...      5\n",
       "1997  Perfect for longer hours of online work. This ...      5\n",
       "1998                                          Very good      5\n",
       "\n",
       "[1999 rows x 2 columns]"
      ]
     },
     "execution_count": 56,
     "metadata": {},
     "output_type": "execute_result"
    }
   ],
   "source": [
    "df12=pd.DataFrame({'Review':Review12,'Rating':Ratings12})\n",
    "df12"
   ]
  },
  {
   "cell_type": "code",
   "execution_count": 57,
   "id": "865ca3b7",
   "metadata": {},
   "outputs": [
    {
     "data": {
      "text/plain": [
       "(1999, 2)"
      ]
     },
     "execution_count": 57,
     "metadata": {},
     "output_type": "execute_result"
    }
   ],
   "source": [
    "df12.shape"
   ]
  },
  {
   "cell_type": "code",
   "execution_count": 58,
   "id": "84517d93",
   "metadata": {},
   "outputs": [],
   "source": [
    "driver.close()"
   ]
  },
  {
   "cell_type": "markdown",
   "id": "37c42e41",
   "metadata": {},
   "source": [
    "# Gadget = Samsung 24-inch(60.46cm) FHD Monitor"
   ]
  },
  {
   "cell_type": "code",
   "execution_count": 59,
   "id": "007a35e0",
   "metadata": {},
   "outputs": [],
   "source": [
    "driver=webdriver.Chrome(r\"C:\\Users\\91994\\Desktop\\DRiver\\chromedriver.exe\")"
   ]
  },
  {
   "cell_type": "code",
   "execution_count": 60,
   "id": "cfcf835b",
   "metadata": {},
   "outputs": [],
   "source": [
    "driver.get('https://www.amazon.in/Samsung-inch-Bezel-Flicker-Monitor-LF24T350FHWXXL/product-reviews/B08J82K4GX/ref=cm_cr_dp_d_show_all_btm?ie=UTF8&reviewerType=all_reviews')"
   ]
  },
  {
   "cell_type": "code",
   "execution_count": 61,
   "id": "ded3edc4",
   "metadata": {},
   "outputs": [],
   "source": [
    "Review13=[]\n",
    "Rating13=[]\n",
    "start=0\n",
    "end=40\n",
    "for page in range(start,end):\n",
    "    review=driver.find_elements(By.XPATH,'//span[@data-hook=\"review-body\"]')\n",
    "    for i in review:\n",
    "        Review13.append(i.text)\n",
    "    lst_of_ratings = driver.find_elements(By.CLASS_NAME, \"review-rating\")\n",
    "    for value in lst_of_ratings[2:]:\n",
    "        rating = value.get_attribute('textContent')\n",
    "        Rating13.append(rating)\n",
    "    driver.find_element(By.XPATH,\".//*[contains(text(),'Next page')]\").click()\n",
    "    time.sleep(3)"
   ]
  },
  {
   "cell_type": "code",
   "execution_count": 62,
   "id": "71445604",
   "metadata": {},
   "outputs": [],
   "source": [
    "Ratings13=[item.split('.',1)[0] for item in Rating13]"
   ]
  },
  {
   "cell_type": "code",
   "execution_count": 63,
   "id": "6f2aefc3",
   "metadata": {},
   "outputs": [
    {
     "data": {
      "text/html": [
       "<div>\n",
       "<style scoped>\n",
       "    .dataframe tbody tr th:only-of-type {\n",
       "        vertical-align: middle;\n",
       "    }\n",
       "\n",
       "    .dataframe tbody tr th {\n",
       "        vertical-align: top;\n",
       "    }\n",
       "\n",
       "    .dataframe thead th {\n",
       "        text-align: right;\n",
       "    }\n",
       "</style>\n",
       "<table border=\"1\" class=\"dataframe\">\n",
       "  <thead>\n",
       "    <tr style=\"text-align: right;\">\n",
       "      <th></th>\n",
       "      <th>Review</th>\n",
       "      <th>Rating</th>\n",
       "    </tr>\n",
       "  </thead>\n",
       "  <tbody>\n",
       "    <tr>\n",
       "      <th>0</th>\n",
       "      <td>Perfect monitor for editing and casual gaming</td>\n",
       "      <td>4</td>\n",
       "    </tr>\n",
       "    <tr>\n",
       "      <th>1</th>\n",
       "      <td>Came with the just the OEM package slapped wit...</td>\n",
       "      <td>4</td>\n",
       "    </tr>\n",
       "    <tr>\n",
       "      <th>2</th>\n",
       "      <td>Pros:\\n1. Good display quality\\n2. ??\\nThat's ...</td>\n",
       "      <td>4</td>\n",
       "    </tr>\n",
       "    <tr>\n",
       "      <th>3</th>\n",
       "      <td>The monitor is a faulty one , Amazon sold me a...</td>\n",
       "      <td>4</td>\n",
       "    </tr>\n",
       "    <tr>\n",
       "      <th>4</th>\n",
       "      <td>It has a sleek design and it is interesting to...</td>\n",
       "      <td>4</td>\n",
       "    </tr>\n",
       "    <tr>\n",
       "      <th>...</th>\n",
       "      <td>...</td>\n",
       "      <td>...</td>\n",
       "    </tr>\n",
       "    <tr>\n",
       "      <th>395</th>\n",
       "      <td>One of the pixel on the screen went black afte...</td>\n",
       "      <td>1</td>\n",
       "    </tr>\n",
       "    <tr>\n",
       "      <th>396</th>\n",
       "      <td>Good monitor but the major issue what I've fac...</td>\n",
       "      <td>2</td>\n",
       "    </tr>\n",
       "    <tr>\n",
       "      <th>397</th>\n",
       "      <td>I order this monitor for editing purpose.but t...</td>\n",
       "      <td>1</td>\n",
       "    </tr>\n",
       "    <tr>\n",
       "      <th>398</th>\n",
       "      <td>Received used product. Worst purchase experience.</td>\n",
       "      <td>1</td>\n",
       "    </tr>\n",
       "    <tr>\n",
       "      <th>399</th>\n",
       "      <td>I faced problem with blurry text. Not good for...</td>\n",
       "      <td>1</td>\n",
       "    </tr>\n",
       "  </tbody>\n",
       "</table>\n",
       "<p>400 rows × 2 columns</p>\n",
       "</div>"
      ],
      "text/plain": [
       "                                                Review Rating\n",
       "0        Perfect monitor for editing and casual gaming      4\n",
       "1    Came with the just the OEM package slapped wit...      4\n",
       "2    Pros:\\n1. Good display quality\\n2. ??\\nThat's ...      4\n",
       "3    The monitor is a faulty one , Amazon sold me a...      4\n",
       "4    It has a sleek design and it is interesting to...      4\n",
       "..                                                 ...    ...\n",
       "395  One of the pixel on the screen went black afte...      1\n",
       "396  Good monitor but the major issue what I've fac...      2\n",
       "397  I order this monitor for editing purpose.but t...      1\n",
       "398  Received used product. Worst purchase experience.      1\n",
       "399  I faced problem with blurry text. Not good for...      1\n",
       "\n",
       "[400 rows x 2 columns]"
      ]
     },
     "execution_count": 63,
     "metadata": {},
     "output_type": "execute_result"
    }
   ],
   "source": [
    "df13=pd.DataFrame({'Review':Review13,'Rating':Ratings13})\n",
    "df13"
   ]
  },
  {
   "cell_type": "code",
   "execution_count": 64,
   "id": "f0d404f9",
   "metadata": {},
   "outputs": [
    {
     "data": {
      "text/plain": [
       "(400, 2)"
      ]
     },
     "execution_count": 64,
     "metadata": {},
     "output_type": "execute_result"
    }
   ],
   "source": [
    "df13.shape"
   ]
  },
  {
   "cell_type": "code",
   "execution_count": 65,
   "id": "b3589923",
   "metadata": {},
   "outputs": [],
   "source": [
    "driver.close()"
   ]
  },
  {
   "cell_type": "markdown",
   "id": "7db41d2c",
   "metadata": {},
   "source": [
    "# Gadget = Noise Pulse Go Buzz Smart Watch with Smart Call & Advanced Bluetooth Tech"
   ]
  },
  {
   "cell_type": "code",
   "execution_count": 66,
   "id": "e4af4349",
   "metadata": {},
   "outputs": [],
   "source": [
    "driver=webdriver.Chrome(r\"C:\\Users\\91994\\Desktop\\DRiver\\chromedriver.exe\")"
   ]
  },
  {
   "cell_type": "code",
   "execution_count": 67,
   "id": "01abe651",
   "metadata": {},
   "outputs": [],
   "source": [
    "driver.get('https://www.amazon.in/Noise-Advanced-Bluetooth-Detection-Battery/product-reviews/B0B5LW5DFQ/ref=cm_cr_dp_d_show_all_btm?ie=UTF8&reviewerType=all_reviews')"
   ]
  },
  {
   "cell_type": "code",
   "execution_count": 68,
   "id": "03c364a5",
   "metadata": {},
   "outputs": [],
   "source": [
    "Review14=[]\n",
    "Rating14=[]\n",
    "start=0\n",
    "end=170\n",
    "for page in range(start,end):\n",
    "    review=driver.find_elements(By.XPATH,'//span[@data-hook=\"review-body\"]')\n",
    "    for i in review:\n",
    "        Review14.append(i.text)\n",
    "    lst_of_ratings = driver.find_elements(By.CLASS_NAME, \"review-rating\")\n",
    "    for value in lst_of_ratings[2:]:\n",
    "        rating = value.get_attribute('textContent')\n",
    "        Rating14.append(rating)\n",
    "    driver.find_element(By.XPATH,\".//*[contains(text(),'Next page')]\").click()\n",
    "    time.sleep(3)"
   ]
  },
  {
   "cell_type": "code",
   "execution_count": 69,
   "id": "546428b9",
   "metadata": {},
   "outputs": [],
   "source": [
    "Ratings14=[item.split('.',1)[0] for item in Rating14]"
   ]
  },
  {
   "cell_type": "code",
   "execution_count": 70,
   "id": "30b5b56a",
   "metadata": {},
   "outputs": [
    {
     "data": {
      "text/html": [
       "<div>\n",
       "<style scoped>\n",
       "    .dataframe tbody tr th:only-of-type {\n",
       "        vertical-align: middle;\n",
       "    }\n",
       "\n",
       "    .dataframe tbody tr th {\n",
       "        vertical-align: top;\n",
       "    }\n",
       "\n",
       "    .dataframe thead th {\n",
       "        text-align: right;\n",
       "    }\n",
       "</style>\n",
       "<table border=\"1\" class=\"dataframe\">\n",
       "  <thead>\n",
       "    <tr style=\"text-align: right;\">\n",
       "      <th></th>\n",
       "      <th>Review</th>\n",
       "      <th>Rating</th>\n",
       "    </tr>\n",
       "  </thead>\n",
       "  <tbody>\n",
       "    <tr>\n",
       "      <th>0</th>\n",
       "      <td>I m order this watch at 29 September 2022 but ...</td>\n",
       "      <td>4</td>\n",
       "    </tr>\n",
       "    <tr>\n",
       "      <th>1</th>\n",
       "      <td>The watch is great for the price. Most things ...</td>\n",
       "      <td>4</td>\n",
       "    </tr>\n",
       "    <tr>\n",
       "      <th>2</th>\n",
       "      <td>good one i got this 1399 ... i write this revi...</td>\n",
       "      <td>4</td>\n",
       "    </tr>\n",
       "    <tr>\n",
       "      <th>3</th>\n",
       "      <td>Giving review after a month:\\nThe watch is wor...</td>\n",
       "      <td>4</td>\n",
       "    </tr>\n",
       "    <tr>\n",
       "      <th>4</th>\n",
       "      <td>I have tried BOAT and FIREBOLT also and found ...</td>\n",
       "      <td>4</td>\n",
       "    </tr>\n",
       "    <tr>\n",
       "      <th>...</th>\n",
       "      <td>...</td>\n",
       "      <td>...</td>\n",
       "    </tr>\n",
       "    <tr>\n",
       "      <th>1695</th>\n",
       "      <td>Excellent smart Watch with thuis price range, ...</td>\n",
       "      <td>5</td>\n",
       "    </tr>\n",
       "    <tr>\n",
       "      <th>1696</th>\n",
       "      <td>It's a wonderful watch and it's battery backup...</td>\n",
       "      <td>5</td>\n",
       "    </tr>\n",
       "    <tr>\n",
       "      <th>1697</th>\n",
       "      <td>This watch is very good its touch response is ...</td>\n",
       "      <td>5</td>\n",
       "    </tr>\n",
       "    <tr>\n",
       "      <th>1698</th>\n",
       "      <td>It's working fine and there is no problem with...</td>\n",
       "      <td>5</td>\n",
       "    </tr>\n",
       "    <tr>\n",
       "      <th>1699</th>\n",
       "      <td>Product is very good, fit is good. After tryin...</td>\n",
       "      <td>5</td>\n",
       "    </tr>\n",
       "  </tbody>\n",
       "</table>\n",
       "<p>1700 rows × 2 columns</p>\n",
       "</div>"
      ],
      "text/plain": [
       "                                                 Review Rating\n",
       "0     I m order this watch at 29 September 2022 but ...      4\n",
       "1     The watch is great for the price. Most things ...      4\n",
       "2     good one i got this 1399 ... i write this revi...      4\n",
       "3     Giving review after a month:\\nThe watch is wor...      4\n",
       "4     I have tried BOAT and FIREBOLT also and found ...      4\n",
       "...                                                 ...    ...\n",
       "1695  Excellent smart Watch with thuis price range, ...      5\n",
       "1696  It's a wonderful watch and it's battery backup...      5\n",
       "1697  This watch is very good its touch response is ...      5\n",
       "1698  It's working fine and there is no problem with...      5\n",
       "1699  Product is very good, fit is good. After tryin...      5\n",
       "\n",
       "[1700 rows x 2 columns]"
      ]
     },
     "execution_count": 70,
     "metadata": {},
     "output_type": "execute_result"
    }
   ],
   "source": [
    "df14=pd.DataFrame({'Review':Review14,'Rating':Ratings14})\n",
    "df14"
   ]
  },
  {
   "cell_type": "code",
   "execution_count": 71,
   "id": "22b02d0f",
   "metadata": {},
   "outputs": [
    {
     "data": {
      "text/plain": [
       "(1700, 2)"
      ]
     },
     "execution_count": 71,
     "metadata": {},
     "output_type": "execute_result"
    }
   ],
   "source": [
    "df14.shape"
   ]
  },
  {
   "cell_type": "code",
   "execution_count": 72,
   "id": "44ddc14a",
   "metadata": {},
   "outputs": [],
   "source": [
    "driver.close()"
   ]
  },
  {
   "cell_type": "code",
   "execution_count": 82,
   "id": "c57e8404",
   "metadata": {},
   "outputs": [
    {
     "data": {
      "text/plain": [
       "(6599, 2)"
      ]
     },
     "execution_count": 82,
     "metadata": {},
     "output_type": "execute_result"
    }
   ],
   "source": [
    "Final_df2=pd.concat([df10,df11,df12,df13,df14], axis=0)\n",
    "Final_df2.shape"
   ]
  },
  {
   "cell_type": "code",
   "execution_count": 83,
   "id": "603818bd",
   "metadata": {},
   "outputs": [],
   "source": [
    "Final_df2.to_csv('Ratings_final_df2.csv')"
   ]
  },
  {
   "cell_type": "markdown",
   "id": "a3d6a67e",
   "metadata": {},
   "source": [
    "# Gadget = Fire-Boltt Phoenix Smart Watch with Bluetooth Calling 1.3\",120+ Sports Modes"
   ]
  },
  {
   "cell_type": "code",
   "execution_count": 9,
   "id": "7e2b395b",
   "metadata": {},
   "outputs": [],
   "source": [
    "driver=webdriver.Chrome(r\"C:\\Users\\91994\\Desktop\\DRiver\\chromedriver.exe\")"
   ]
  },
  {
   "cell_type": "code",
   "execution_count": 10,
   "id": "5321adb2",
   "metadata": {},
   "outputs": [],
   "source": [
    "driver.get('https://www.amazon.in/Fire-Boltt-Phoenix-Bluetooth-Calling-Monitoring/product-reviews/B0B3RRWSF6/ref=cm_cr_dp_d_show_all_btm?ie=UTF8&reviewerType=all_reviews')"
   ]
  },
  {
   "cell_type": "code",
   "execution_count": 11,
   "id": "06b359ee",
   "metadata": {},
   "outputs": [],
   "source": [
    "Review15=[]\n",
    "Rating15=[]\n",
    "start=0\n",
    "end=150\n",
    "for page in range(start,end):\n",
    "    review=driver.find_elements(By.XPATH,'//span[@data-hook=\"review-body\"]')\n",
    "    for i in review:\n",
    "        Review15.append(i.text)\n",
    "    lst_of_ratings = driver.find_elements(By.CLASS_NAME, \"review-rating\")\n",
    "    for value in lst_of_ratings[2:]:\n",
    "        rating = value.get_attribute('textContent')\n",
    "        Rating15.append(rating)\n",
    "    driver.find_element(By.XPATH,\".//*[contains(text(),'Next page')]\").click()\n",
    "    time.sleep(3)"
   ]
  },
  {
   "cell_type": "code",
   "execution_count": 12,
   "id": "835afb14",
   "metadata": {},
   "outputs": [],
   "source": [
    "Ratings15=[item.split('.',1)[0] for item in Rating15]"
   ]
  },
  {
   "cell_type": "code",
   "execution_count": 13,
   "id": "f5898664",
   "metadata": {},
   "outputs": [
    {
     "data": {
      "text/html": [
       "<div>\n",
       "<style scoped>\n",
       "    .dataframe tbody tr th:only-of-type {\n",
       "        vertical-align: middle;\n",
       "    }\n",
       "\n",
       "    .dataframe tbody tr th {\n",
       "        vertical-align: top;\n",
       "    }\n",
       "\n",
       "    .dataframe thead th {\n",
       "        text-align: right;\n",
       "    }\n",
       "</style>\n",
       "<table border=\"1\" class=\"dataframe\">\n",
       "  <thead>\n",
       "    <tr style=\"text-align: right;\">\n",
       "      <th></th>\n",
       "      <th>Review</th>\n",
       "      <th>Rating</th>\n",
       "    </tr>\n",
       "  </thead>\n",
       "  <tbody>\n",
       "    <tr>\n",
       "      <th>0</th>\n",
       "      <td>this watch is soo good tht it can even track h...</td>\n",
       "      <td>4</td>\n",
       "    </tr>\n",
       "    <tr>\n",
       "      <th>1</th>\n",
       "      <td>The watch is extremely affordable as it just c...</td>\n",
       "      <td>4</td>\n",
       "    </tr>\n",
       "    <tr>\n",
       "      <th>2</th>\n",
       "      <td>You can not select extra apps except pre downl...</td>\n",
       "      <td>4</td>\n",
       "    </tr>\n",
       "    <tr>\n",
       "      <th>3</th>\n",
       "      <td>Defiantly value for money!\\nIt is working fine...</td>\n",
       "      <td>4</td>\n",
       "    </tr>\n",
       "    <tr>\n",
       "      <th>4</th>\n",
       "      <td>To be perfect.... But a great experience indee...</td>\n",
       "      <td>4</td>\n",
       "    </tr>\n",
       "    <tr>\n",
       "      <th>...</th>\n",
       "      <td>...</td>\n",
       "      <td>...</td>\n",
       "    </tr>\n",
       "    <tr>\n",
       "      <th>1495</th>\n",
       "      <td>Good and nice product</td>\n",
       "      <td>4</td>\n",
       "    </tr>\n",
       "    <tr>\n",
       "      <th>1496</th>\n",
       "      <td>60 min- 80 min</td>\n",
       "      <td>4</td>\n",
       "    </tr>\n",
       "    <tr>\n",
       "      <th>1497</th>\n",
       "      <td>Must buy it.</td>\n",
       "      <td>4</td>\n",
       "    </tr>\n",
       "    <tr>\n",
       "      <th>1498</th>\n",
       "      <td>Best round dialer smart watch in very low price</td>\n",
       "      <td>4</td>\n",
       "    </tr>\n",
       "    <tr>\n",
       "      <th>1499</th>\n",
       "      <td>Nice watch and the function is really awesome</td>\n",
       "      <td>4</td>\n",
       "    </tr>\n",
       "  </tbody>\n",
       "</table>\n",
       "<p>1500 rows × 2 columns</p>\n",
       "</div>"
      ],
      "text/plain": [
       "                                                 Review Rating\n",
       "0     this watch is soo good tht it can even track h...      4\n",
       "1     The watch is extremely affordable as it just c...      4\n",
       "2     You can not select extra apps except pre downl...      4\n",
       "3     Defiantly value for money!\\nIt is working fine...      4\n",
       "4     To be perfect.... But a great experience indee...      4\n",
       "...                                                 ...    ...\n",
       "1495                              Good and nice product      4\n",
       "1496                                     60 min- 80 min      4\n",
       "1497                                       Must buy it.      4\n",
       "1498    Best round dialer smart watch in very low price      4\n",
       "1499      Nice watch and the function is really awesome      4\n",
       "\n",
       "[1500 rows x 2 columns]"
      ]
     },
     "execution_count": 13,
     "metadata": {},
     "output_type": "execute_result"
    }
   ],
   "source": [
    "df15=pd.DataFrame({'Review':Review15,'Rating':Ratings15})\n",
    "df15"
   ]
  },
  {
   "cell_type": "code",
   "execution_count": 14,
   "id": "ad5db0be",
   "metadata": {},
   "outputs": [
    {
     "data": {
      "text/plain": [
       "(1500, 2)"
      ]
     },
     "execution_count": 14,
     "metadata": {},
     "output_type": "execute_result"
    }
   ],
   "source": [
    "df15.shape"
   ]
  },
  {
   "cell_type": "code",
   "execution_count": 15,
   "id": "f8fedb24",
   "metadata": {},
   "outputs": [],
   "source": [
    "driver.close()"
   ]
  },
  {
   "cell_type": "code",
   "execution_count": 20,
   "id": "985936f5",
   "metadata": {},
   "outputs": [],
   "source": [
    "df15.to_csv('Ratings_final_df3.csv')"
   ]
  },
  {
   "cell_type": "markdown",
   "id": "5c5cc6aa",
   "metadata": {},
   "source": [
    "# Gadget = boAt Wave Call Smart Watch, Smart Talk with Advanced Dedicated Bluetooth Calling Chip"
   ]
  },
  {
   "cell_type": "code",
   "execution_count": 2,
   "id": "af95db2b",
   "metadata": {},
   "outputs": [],
   "source": [
    "driver=webdriver.Chrome(r\"C:\\Users\\91994\\Desktop\\DRiver\\chromedriver.exe\")"
   ]
  },
  {
   "cell_type": "code",
   "execution_count": 3,
   "id": "e07e98d2",
   "metadata": {},
   "outputs": [],
   "source": [
    "driver.get('https://www.amazon.in/boAt-Wave-Call-Dedicated-Multi-Sport/product-reviews/B0B5B6PQCT/ref=cm_cr_dp_d_show_all_btm?ie=UTF8&reviewerType=all_reviews')"
   ]
  },
  {
   "cell_type": "code",
   "execution_count": 4,
   "id": "b1ab27d9",
   "metadata": {},
   "outputs": [],
   "source": [
    "Review16=[]\n",
    "Rating16=[]\n",
    "start=0\n",
    "end=50\n",
    "for page in range(start,end):\n",
    "    review=driver.find_elements(By.XPATH,'//span[@data-hook=\"review-body\"]')\n",
    "    for i in review:\n",
    "        Review16.append(i.text)\n",
    "    lst_of_ratings = driver.find_elements(By.CLASS_NAME, \"review-rating\")\n",
    "    for value in lst_of_ratings[2:]:\n",
    "        rating = value.get_attribute('textContent')\n",
    "        Rating16.append(rating)\n",
    "    driver.find_element(By.XPATH,\".//*[contains(text(),'Next page')]\").click()\n",
    "    time.sleep(3)"
   ]
  },
  {
   "cell_type": "code",
   "execution_count": 5,
   "id": "bc3bee6b",
   "metadata": {},
   "outputs": [],
   "source": [
    "Ratings16=[item.split('.',1)[0] for item in Rating16]"
   ]
  },
  {
   "cell_type": "code",
   "execution_count": 6,
   "id": "ae02c5bb",
   "metadata": {},
   "outputs": [
    {
     "data": {
      "text/html": [
       "<div>\n",
       "<style scoped>\n",
       "    .dataframe tbody tr th:only-of-type {\n",
       "        vertical-align: middle;\n",
       "    }\n",
       "\n",
       "    .dataframe tbody tr th {\n",
       "        vertical-align: top;\n",
       "    }\n",
       "\n",
       "    .dataframe thead th {\n",
       "        text-align: right;\n",
       "    }\n",
       "</style>\n",
       "<table border=\"1\" class=\"dataframe\">\n",
       "  <thead>\n",
       "    <tr style=\"text-align: right;\">\n",
       "      <th></th>\n",
       "      <th>Review</th>\n",
       "      <th>Rating</th>\n",
       "    </tr>\n",
       "  </thead>\n",
       "  <tbody>\n",
       "    <tr>\n",
       "      <th>0</th>\n",
       "      <td>[Update: Sept 29] boAt seems to have heard the...</td>\n",
       "      <td>4</td>\n",
       "    </tr>\n",
       "    <tr>\n",
       "      <th>1</th>\n",
       "      <td>Ok good call volume is good app is not working...</td>\n",
       "      <td>4</td>\n",
       "    </tr>\n",
       "    <tr>\n",
       "      <th>2</th>\n",
       "      <td>1st I feel difficult for setup and connecting ...</td>\n",
       "      <td>4</td>\n",
       "    </tr>\n",
       "    <tr>\n",
       "      <th>3</th>\n",
       "      <td>boat offer balance products though it is audio...</td>\n",
       "      <td>4</td>\n",
       "    </tr>\n",
       "    <tr>\n",
       "      <th>4</th>\n",
       "      <td>Average good, calls can be attended, notificat...</td>\n",
       "      <td>4</td>\n",
       "    </tr>\n",
       "    <tr>\n",
       "      <th>...</th>\n",
       "      <td>...</td>\n",
       "      <td>...</td>\n",
       "    </tr>\n",
       "    <tr>\n",
       "      <th>495</th>\n",
       "      <td>अच्छा</td>\n",
       "      <td>5</td>\n",
       "    </tr>\n",
       "    <tr>\n",
       "      <th>496</th>\n",
       "      <td>Amazing features❤️❤️❤️❤️❤️sound,calling,bright...</td>\n",
       "      <td>5</td>\n",
       "    </tr>\n",
       "    <tr>\n",
       "      <th>497</th>\n",
       "      <td>I purchased this for my brother on occasion of...</td>\n",
       "      <td>5</td>\n",
       "    </tr>\n",
       "    <tr>\n",
       "      <th>498</th>\n",
       "      <td>Fast delivered, And its quality is Amazing. Lo...</td>\n",
       "      <td>5</td>\n",
       "    </tr>\n",
       "    <tr>\n",
       "      <th>499</th>\n",
       "      <td>I use it for everyday use. The app is cool. I ...</td>\n",
       "      <td>5</td>\n",
       "    </tr>\n",
       "  </tbody>\n",
       "</table>\n",
       "<p>500 rows × 2 columns</p>\n",
       "</div>"
      ],
      "text/plain": [
       "                                                Review Rating\n",
       "0    [Update: Sept 29] boAt seems to have heard the...      4\n",
       "1    Ok good call volume is good app is not working...      4\n",
       "2    1st I feel difficult for setup and connecting ...      4\n",
       "3    boat offer balance products though it is audio...      4\n",
       "4    Average good, calls can be attended, notificat...      4\n",
       "..                                                 ...    ...\n",
       "495                                              अच्छा      5\n",
       "496  Amazing features❤️❤️❤️❤️❤️sound,calling,bright...      5\n",
       "497  I purchased this for my brother on occasion of...      5\n",
       "498  Fast delivered, And its quality is Amazing. Lo...      5\n",
       "499  I use it for everyday use. The app is cool. I ...      5\n",
       "\n",
       "[500 rows x 2 columns]"
      ]
     },
     "execution_count": 6,
     "metadata": {},
     "output_type": "execute_result"
    }
   ],
   "source": [
    "df16=pd.DataFrame({'Review':Review16,'Rating':Ratings16})\n",
    "df16"
   ]
  },
  {
   "cell_type": "code",
   "execution_count": 7,
   "id": "a670cb5f",
   "metadata": {},
   "outputs": [
    {
     "data": {
      "text/plain": [
       "(500, 2)"
      ]
     },
     "execution_count": 7,
     "metadata": {},
     "output_type": "execute_result"
    }
   ],
   "source": [
    "df16.shape"
   ]
  },
  {
   "cell_type": "markdown",
   "id": "1517d246",
   "metadata": {},
   "source": [
    "# Gadget = Sony HDRCX405 9.2MP HD Handycam Camcorder with Free Carrying Case"
   ]
  },
  {
   "cell_type": "code",
   "execution_count": 31,
   "id": "56a86f7c",
   "metadata": {},
   "outputs": [],
   "source": [
    "driver=webdriver.Chrome(r\"C:\\Users\\91994\\Desktop\\DRiver\\chromedriver.exe\")"
   ]
  },
  {
   "cell_type": "code",
   "execution_count": 8,
   "id": "4a554109",
   "metadata": {},
   "outputs": [],
   "source": [
    "driver.get('https://www.amazon.in/Sony-HDRCX405-Handycam-Camcorder-Carrying/product-reviews/B00R5LH9HO/ref=cm_cr_dp_d_show_all_btm?ie=UTF8&reviewerType=all_reviews')"
   ]
  },
  {
   "cell_type": "code",
   "execution_count": 9,
   "id": "1b2802b6",
   "metadata": {},
   "outputs": [],
   "source": [
    "Review17=[]\n",
    "Rating17=[]\n",
    "start=0\n",
    "end=70\n",
    "for page in range(start,end):\n",
    "    review=driver.find_elements(By.XPATH,'//span[@data-hook=\"review-body\"]')\n",
    "    for i in review:\n",
    "        Review17.append(i.text)\n",
    "    lst_of_ratings = driver.find_elements(By.CLASS_NAME, \"review-rating\")\n",
    "    for value in lst_of_ratings[2:]:\n",
    "        rating = value.get_attribute('textContent')\n",
    "        Rating17.append(rating)\n",
    "    driver.find_element(By.XPATH,\".//*[contains(text(),'Next page')]\").click()\n",
    "    time.sleep(3)"
   ]
  },
  {
   "cell_type": "code",
   "execution_count": 10,
   "id": "e0fa554e",
   "metadata": {},
   "outputs": [],
   "source": [
    "Ratings17=[item.split('.',1)[0] for item in Rating17]"
   ]
  },
  {
   "cell_type": "code",
   "execution_count": 11,
   "id": "75a279a6",
   "metadata": {},
   "outputs": [
    {
     "data": {
      "text/html": [
       "<div>\n",
       "<style scoped>\n",
       "    .dataframe tbody tr th:only-of-type {\n",
       "        vertical-align: middle;\n",
       "    }\n",
       "\n",
       "    .dataframe tbody tr th {\n",
       "        vertical-align: top;\n",
       "    }\n",
       "\n",
       "    .dataframe thead th {\n",
       "        text-align: right;\n",
       "    }\n",
       "</style>\n",
       "<table border=\"1\" class=\"dataframe\">\n",
       "  <thead>\n",
       "    <tr style=\"text-align: right;\">\n",
       "      <th></th>\n",
       "      <th>Review</th>\n",
       "      <th>Rating</th>\n",
       "    </tr>\n",
       "  </thead>\n",
       "  <tbody>\n",
       "    <tr>\n",
       "      <th>0</th>\n",
       "      <td>After exchanging the product ,seller again has...</td>\n",
       "      <td>4</td>\n",
       "    </tr>\n",
       "    <tr>\n",
       "      <th>1</th>\n",
       "      <td>Useful for beginers but very basic model no ex...</td>\n",
       "      <td>4</td>\n",
       "    </tr>\n",
       "    <tr>\n",
       "      <th>2</th>\n",
       "      <td>Easy to use camcorder, we can easily carry thi...</td>\n",
       "      <td>4</td>\n",
       "    </tr>\n",
       "    <tr>\n",
       "      <th>3</th>\n",
       "      <td>Nice. But the plastic quality of this handycam...</td>\n",
       "      <td>4</td>\n",
       "    </tr>\n",
       "    <tr>\n",
       "      <th>4</th>\n",
       "      <td>The display screen of the camcorder is too sma...</td>\n",
       "      <td>3</td>\n",
       "    </tr>\n",
       "    <tr>\n",
       "      <th>...</th>\n",
       "      <td>...</td>\n",
       "      <td>...</td>\n",
       "    </tr>\n",
       "    <tr>\n",
       "      <th>695</th>\n",
       "      <td>easy to operate</td>\n",
       "      <td>5</td>\n",
       "    </tr>\n",
       "    <tr>\n",
       "      <th>696</th>\n",
       "      <td>Excellent</td>\n",
       "      <td>5</td>\n",
       "    </tr>\n",
       "    <tr>\n",
       "      <th>697</th>\n",
       "      <td>Excellent camcorder. Great price!! Love it.</td>\n",
       "      <td>5</td>\n",
       "    </tr>\n",
       "    <tr>\n",
       "      <th>698</th>\n",
       "      <td>Memory cards lock up and will the camcorder wi...</td>\n",
       "      <td>1</td>\n",
       "    </tr>\n",
       "    <tr>\n",
       "      <th>699</th>\n",
       "      <td>No ways to stop recording other than stand by ...</td>\n",
       "      <td>1</td>\n",
       "    </tr>\n",
       "  </tbody>\n",
       "</table>\n",
       "<p>700 rows × 2 columns</p>\n",
       "</div>"
      ],
      "text/plain": [
       "                                                Review Rating\n",
       "0    After exchanging the product ,seller again has...      4\n",
       "1    Useful for beginers but very basic model no ex...      4\n",
       "2    Easy to use camcorder, we can easily carry thi...      4\n",
       "3    Nice. But the plastic quality of this handycam...      4\n",
       "4    The display screen of the camcorder is too sma...      3\n",
       "..                                                 ...    ...\n",
       "695                                    easy to operate      5\n",
       "696                                          Excellent      5\n",
       "697        Excellent camcorder. Great price!! Love it.      5\n",
       "698  Memory cards lock up and will the camcorder wi...      1\n",
       "699  No ways to stop recording other than stand by ...      1\n",
       "\n",
       "[700 rows x 2 columns]"
      ]
     },
     "execution_count": 11,
     "metadata": {},
     "output_type": "execute_result"
    }
   ],
   "source": [
    "df17=pd.DataFrame({'Review':Review17,'Rating':Ratings17})\n",
    "df17"
   ]
  },
  {
   "cell_type": "code",
   "execution_count": 12,
   "id": "a062a5ed",
   "metadata": {},
   "outputs": [
    {
     "data": {
      "text/plain": [
       "(700, 2)"
      ]
     },
     "execution_count": 12,
     "metadata": {},
     "output_type": "execute_result"
    }
   ],
   "source": [
    "df17.shape"
   ]
  },
  {
   "cell_type": "code",
   "execution_count": 37,
   "id": "380fc495",
   "metadata": {},
   "outputs": [],
   "source": [
    "driver.close()"
   ]
  },
  {
   "cell_type": "markdown",
   "id": "28e5e01a",
   "metadata": {},
   "source": [
    "# Gadget = Canon XA11 Professional Camcorder"
   ]
  },
  {
   "cell_type": "code",
   "execution_count": 38,
   "id": "609b1cbf",
   "metadata": {},
   "outputs": [],
   "source": [
    "driver=webdriver.Chrome(r\"C:\\Users\\91994\\Desktop\\DRiver\\chromedriver.exe\")"
   ]
  },
  {
   "cell_type": "code",
   "execution_count": 13,
   "id": "a9cdf854",
   "metadata": {},
   "outputs": [],
   "source": [
    "driver.get('https://www.amazon.in/Canon-XA11-Professional-Camcorder/product-reviews/B0773Y4HTC/ref=cm_cr_dp_d_show_all_btm?ie=UTF8&reviewerType=all_reviews')"
   ]
  },
  {
   "cell_type": "code",
   "execution_count": 14,
   "id": "511f687c",
   "metadata": {},
   "outputs": [],
   "source": [
    "Review18=[]\n",
    "Rating18=[]\n",
    "start=0\n",
    "end=6\n",
    "for page in range(start,end):\n",
    "    review=driver.find_elements(By.XPATH,'//span[@data-hook=\"review-body\"]')\n",
    "    for i in review:\n",
    "        Review18.append(i.text)\n",
    "    lst_of_ratings = driver.find_elements(By.CLASS_NAME, \"review-rating\")\n",
    "    for value in lst_of_ratings[2:]:\n",
    "        rating = value.get_attribute('textContent')\n",
    "        Rating18.append(rating)\n",
    "    driver.find_element(By.XPATH,\".//*[contains(text(),'Next page')]\").click()\n",
    "    time.sleep(3)"
   ]
  },
  {
   "cell_type": "code",
   "execution_count": 15,
   "id": "5430050b",
   "metadata": {},
   "outputs": [],
   "source": [
    "Ratings18=[item.split('.',1)[0] for item in Rating18]"
   ]
  },
  {
   "cell_type": "code",
   "execution_count": 16,
   "id": "4f07debc",
   "metadata": {},
   "outputs": [
    {
     "data": {
      "text/html": [
       "<div>\n",
       "<style scoped>\n",
       "    .dataframe tbody tr th:only-of-type {\n",
       "        vertical-align: middle;\n",
       "    }\n",
       "\n",
       "    .dataframe tbody tr th {\n",
       "        vertical-align: top;\n",
       "    }\n",
       "\n",
       "    .dataframe thead th {\n",
       "        text-align: right;\n",
       "    }\n",
       "</style>\n",
       "<table border=\"1\" class=\"dataframe\">\n",
       "  <thead>\n",
       "    <tr style=\"text-align: right;\">\n",
       "      <th></th>\n",
       "      <th>Review</th>\n",
       "      <th>Rating</th>\n",
       "    </tr>\n",
       "  </thead>\n",
       "  <tbody>\n",
       "    <tr>\n",
       "      <th>0</th>\n",
       "      <td>Genuine pride was sendt to me, in a very good ...</td>\n",
       "      <td>5</td>\n",
       "    </tr>\n",
       "    <tr>\n",
       "      <th>1</th>\n",
       "      <td>Canon XA11 is a very good camera, I don't thin...</td>\n",
       "      <td>5</td>\n",
       "    </tr>\n",
       "    <tr>\n",
       "      <th>2</th>\n",
       "      <td></td>\n",
       "      <td>5</td>\n",
       "    </tr>\n",
       "    <tr>\n",
       "      <th>3</th>\n",
       "      <td>Good product</td>\n",
       "      <td>4</td>\n",
       "    </tr>\n",
       "    <tr>\n",
       "      <th>4</th>\n",
       "      <td>I don't know how to use it live stream on Face...</td>\n",
       "      <td>5</td>\n",
       "    </tr>\n",
       "    <tr>\n",
       "      <th>5</th>\n",
       "      <td>The Canon XA 11 is a brilliant camera, and has...</td>\n",
       "      <td>1</td>\n",
       "    </tr>\n",
       "    <tr>\n",
       "      <th>6</th>\n",
       "      <td>Excellent Video Camera, compact size makes it ...</td>\n",
       "      <td>5</td>\n",
       "    </tr>\n",
       "    <tr>\n",
       "      <th>7</th>\n",
       "      <td>I got it from a store in Guwahati at a lower p...</td>\n",
       "      <td>5</td>\n",
       "    </tr>\n",
       "    <tr>\n",
       "      <th>8</th>\n",
       "      <td>Canon xa11 camcorder price 70000 he in store.</td>\n",
       "      <td>1</td>\n",
       "    </tr>\n",
       "    <tr>\n",
       "      <th>9</th>\n",
       "      <td>Cámara llegó completa y a tiempo. Todavía no e...</td>\n",
       "      <td>5</td>\n",
       "    </tr>\n",
       "    <tr>\n",
       "      <th>10</th>\n",
       "      <td>I had worked as a videographer for over 30 yea...</td>\n",
       "      <td>5</td>\n",
       "    </tr>\n",
       "    <tr>\n",
       "      <th>11</th>\n",
       "      <td>Pour des vidéo web. Pour moi, la qualité du so...</td>\n",
       "      <td>5</td>\n",
       "    </tr>\n",
       "    <tr>\n",
       "      <th>12</th>\n",
       "      <td>I’m a freelance reporter and I have to say thi...</td>\n",
       "      <td>5</td>\n",
       "    </tr>\n",
       "    <tr>\n",
       "      <th>13</th>\n",
       "      <td></td>\n",
       "      <td>5</td>\n",
       "    </tr>\n",
       "    <tr>\n",
       "      <th>14</th>\n",
       "      <td>I love this camera. While I have used other br...</td>\n",
       "      <td>5</td>\n",
       "    </tr>\n",
       "    <tr>\n",
       "      <th>15</th>\n",
       "      <td>When held in hand (vertical positon), the LCD ...</td>\n",
       "      <td>2</td>\n",
       "    </tr>\n",
       "    <tr>\n",
       "      <th>16</th>\n",
       "      <td>I chose the Canon XA11, because it features t...</td>\n",
       "      <td>5</td>\n",
       "    </tr>\n",
       "    <tr>\n",
       "      <th>17</th>\n",
       "      <td>I purchased this camera in September of 2020 f...</td>\n",
       "      <td>3</td>\n",
       "    </tr>\n",
       "    <tr>\n",
       "      <th>18</th>\n",
       "      <td>I haven't used the camera much yet, but it see...</td>\n",
       "      <td>5</td>\n",
       "    </tr>\n",
       "    <tr>\n",
       "      <th>19</th>\n",
       "      <td>I love this camera!!! I know it doesn't have ...</td>\n",
       "      <td>5</td>\n",
       "    </tr>\n",
       "    <tr>\n",
       "      <th>20</th>\n",
       "      <td>Le modèle 4K a été réduit de 500$ Quelques moi...</td>\n",
       "      <td>4</td>\n",
       "    </tr>\n",
       "    <tr>\n",
       "      <th>21</th>\n",
       "      <td>I had done research before purchasing 2 of the...</td>\n",
       "      <td>5</td>\n",
       "    </tr>\n",
       "    <tr>\n",
       "      <th>22</th>\n",
       "      <td>Canon has done it again. This is a great Camco...</td>\n",
       "      <td>5</td>\n",
       "    </tr>\n",
       "    <tr>\n",
       "      <th>23</th>\n",
       "      <td>Is very excited to get this camcorder. Some fa...</td>\n",
       "      <td>3</td>\n",
       "    </tr>\n",
       "    <tr>\n",
       "      <th>24</th>\n",
       "      <td>Took forever to arrive. No thanks to Canadapos...</td>\n",
       "      <td>4</td>\n",
       "    </tr>\n",
       "    <tr>\n",
       "      <th>25</th>\n",
       "      <td>I've owned Sony equipment for my entire life.....</td>\n",
       "      <td>5</td>\n",
       "    </tr>\n",
       "    <tr>\n",
       "      <th>26</th>\n",
       "      <td>Camera has been install for a while now and wo...</td>\n",
       "      <td>5</td>\n",
       "    </tr>\n",
       "    <tr>\n",
       "      <th>27</th>\n",
       "      <td>I bought this camera for hunting videos. Great...</td>\n",
       "      <td>4</td>\n",
       "    </tr>\n",
       "    <tr>\n",
       "      <th>28</th>\n",
       "      <td>This camera has great quality. Works well in l...</td>\n",
       "      <td>5</td>\n",
       "    </tr>\n",
       "    <tr>\n",
       "      <th>29</th>\n",
       "      <td>Happy with the camera, you can;t beat japanese...</td>\n",
       "      <td>5</td>\n",
       "    </tr>\n",
       "    <tr>\n",
       "      <th>30</th>\n",
       "      <td>We really like this camera, just what we were ...</td>\n",
       "      <td>5</td>\n",
       "    </tr>\n",
       "    <tr>\n",
       "      <th>31</th>\n",
       "      <td>So far I love this camera. The picture quality...</td>\n",
       "      <td>5</td>\n",
       "    </tr>\n",
       "    <tr>\n",
       "      <th>32</th>\n",
       "      <td>I needed to be able to record directly from ou...</td>\n",
       "      <td>5</td>\n",
       "    </tr>\n",
       "    <tr>\n",
       "      <th>33</th>\n",
       "      <td>Still learning the camera. Used it twice. So f...</td>\n",
       "      <td>4</td>\n",
       "    </tr>\n",
       "    <tr>\n",
       "      <th>34</th>\n",
       "      <td>It's FANTASTIC camera for any small-medium siz...</td>\n",
       "      <td>5</td>\n",
       "    </tr>\n",
       "    <tr>\n",
       "      <th>35</th>\n",
       "      <td>So far so good, I am a little disappointed in ...</td>\n",
       "      <td>4</td>\n",
       "    </tr>\n",
       "    <tr>\n",
       "      <th>36</th>\n",
       "      <td>Perfect little run and gun camera. I do ENG, c...</td>\n",
       "      <td>5</td>\n",
       "    </tr>\n",
       "    <tr>\n",
       "      <th>37</th>\n",
       "      <td>Working very well, the video is clear and the ...</td>\n",
       "      <td>5</td>\n",
       "    </tr>\n",
       "    <tr>\n",
       "      <th>38</th>\n",
       "      <td>Great camcorder with a ton of features. easy t...</td>\n",
       "      <td>5</td>\n",
       "    </tr>\n",
       "    <tr>\n",
       "      <th>39</th>\n",
       "      <td>Beautiful product</td>\n",
       "      <td>5</td>\n",
       "    </tr>\n",
       "    <tr>\n",
       "      <th>40</th>\n",
       "      <td>Very good camera for the price. Does an excell...</td>\n",
       "      <td>5</td>\n",
       "    </tr>\n",
       "    <tr>\n",
       "      <th>41</th>\n",
       "      <td>Took our online livestream to a new\\nLevel. Gr...</td>\n",
       "      <td>5</td>\n",
       "    </tr>\n",
       "    <tr>\n",
       "      <th>42</th>\n",
       "      <td>this camcorder is super cool and I particularl...</td>\n",
       "      <td>5</td>\n",
       "    </tr>\n",
       "    <tr>\n",
       "      <th>43</th>\n",
       "      <td>Looks good and operates like it should.</td>\n",
       "      <td>4</td>\n",
       "    </tr>\n",
       "    <tr>\n",
       "      <th>44</th>\n",
       "      <td>Another Canon product which is superior to its...</td>\n",
       "      <td>5</td>\n",
       "    </tr>\n",
       "    <tr>\n",
       "      <th>45</th>\n",
       "      <td>We are using these to film video podcast @ our...</td>\n",
       "      <td>5</td>\n",
       "    </tr>\n",
       "    <tr>\n",
       "      <th>46</th>\n",
       "      <td>Just took a once in a lifetime video of my gra...</td>\n",
       "      <td>5</td>\n",
       "    </tr>\n",
       "    <tr>\n",
       "      <th>47</th>\n",
       "      <td>This is a professional quality instrument that...</td>\n",
       "      <td>5</td>\n",
       "    </tr>\n",
       "    <tr>\n",
       "      <th>48</th>\n",
       "      <td>Perfect size - great features.\\nAuto white bal...</td>\n",
       "      <td>5</td>\n",
       "    </tr>\n",
       "    <tr>\n",
       "      <th>49</th>\n",
       "      <td>The quality is so clear! Such a beast in a sma...</td>\n",
       "      <td>5</td>\n",
       "    </tr>\n",
       "    <tr>\n",
       "      <th>50</th>\n",
       "      <td>I love this camera, it’s easy to use!! Great p...</td>\n",
       "      <td>5</td>\n",
       "    </tr>\n",
       "    <tr>\n",
       "      <th>51</th>\n",
       "      <td>Just an awesome unit. It's compact with all th...</td>\n",
       "      <td>5</td>\n",
       "    </tr>\n",
       "    <tr>\n",
       "      <th>52</th>\n",
       "      <td>My son loves this camera!</td>\n",
       "      <td>5</td>\n",
       "    </tr>\n",
       "    <tr>\n",
       "      <th>53</th>\n",
       "      <td>Para nuestra agencia de noticias fue una muy b...</td>\n",
       "      <td>5</td>\n",
       "    </tr>\n",
       "    <tr>\n",
       "      <th>54</th>\n",
       "      <td>cámara es perfecto para hacer documentales</td>\n",
       "      <td>5</td>\n",
       "    </tr>\n",
       "  </tbody>\n",
       "</table>\n",
       "</div>"
      ],
      "text/plain": [
       "                                               Review Rating\n",
       "0   Genuine pride was sendt to me, in a very good ...      5\n",
       "1   Canon XA11 is a very good camera, I don't thin...      5\n",
       "2                                                          5\n",
       "3                                        Good product      4\n",
       "4   I don't know how to use it live stream on Face...      5\n",
       "5   The Canon XA 11 is a brilliant camera, and has...      1\n",
       "6   Excellent Video Camera, compact size makes it ...      5\n",
       "7   I got it from a store in Guwahati at a lower p...      5\n",
       "8       Canon xa11 camcorder price 70000 he in store.      1\n",
       "9   Cámara llegó completa y a tiempo. Todavía no e...      5\n",
       "10  I had worked as a videographer for over 30 yea...      5\n",
       "11  Pour des vidéo web. Pour moi, la qualité du so...      5\n",
       "12  I’m a freelance reporter and I have to say thi...      5\n",
       "13                                                         5\n",
       "14  I love this camera. While I have used other br...      5\n",
       "15  When held in hand (vertical positon), the LCD ...      2\n",
       "16   I chose the Canon XA11, because it features t...      5\n",
       "17  I purchased this camera in September of 2020 f...      3\n",
       "18  I haven't used the camera much yet, but it see...      5\n",
       "19   I love this camera!!! I know it doesn't have ...      5\n",
       "20  Le modèle 4K a été réduit de 500$ Quelques moi...      4\n",
       "21  I had done research before purchasing 2 of the...      5\n",
       "22  Canon has done it again. This is a great Camco...      5\n",
       "23  Is very excited to get this camcorder. Some fa...      3\n",
       "24  Took forever to arrive. No thanks to Canadapos...      4\n",
       "25  I've owned Sony equipment for my entire life.....      5\n",
       "26  Camera has been install for a while now and wo...      5\n",
       "27  I bought this camera for hunting videos. Great...      4\n",
       "28  This camera has great quality. Works well in l...      5\n",
       "29  Happy with the camera, you can;t beat japanese...      5\n",
       "30  We really like this camera, just what we were ...      5\n",
       "31  So far I love this camera. The picture quality...      5\n",
       "32  I needed to be able to record directly from ou...      5\n",
       "33  Still learning the camera. Used it twice. So f...      4\n",
       "34  It's FANTASTIC camera for any small-medium siz...      5\n",
       "35  So far so good, I am a little disappointed in ...      4\n",
       "36  Perfect little run and gun camera. I do ENG, c...      5\n",
       "37  Working very well, the video is clear and the ...      5\n",
       "38  Great camcorder with a ton of features. easy t...      5\n",
       "39                                  Beautiful product      5\n",
       "40  Very good camera for the price. Does an excell...      5\n",
       "41  Took our online livestream to a new\\nLevel. Gr...      5\n",
       "42  this camcorder is super cool and I particularl...      5\n",
       "43            Looks good and operates like it should.      4\n",
       "44  Another Canon product which is superior to its...      5\n",
       "45  We are using these to film video podcast @ our...      5\n",
       "46  Just took a once in a lifetime video of my gra...      5\n",
       "47  This is a professional quality instrument that...      5\n",
       "48  Perfect size - great features.\\nAuto white bal...      5\n",
       "49  The quality is so clear! Such a beast in a sma...      5\n",
       "50  I love this camera, it’s easy to use!! Great p...      5\n",
       "51  Just an awesome unit. It's compact with all th...      5\n",
       "52                          My son loves this camera!      5\n",
       "53  Para nuestra agencia de noticias fue una muy b...      5\n",
       "54         cámara es perfecto para hacer documentales      5"
      ]
     },
     "execution_count": 16,
     "metadata": {},
     "output_type": "execute_result"
    }
   ],
   "source": [
    "df18=pd.DataFrame({'Review':Review18,'Rating':Ratings18})\n",
    "df18"
   ]
  },
  {
   "cell_type": "code",
   "execution_count": 17,
   "id": "16b4fbfb",
   "metadata": {},
   "outputs": [
    {
     "data": {
      "text/plain": [
       "(55, 2)"
      ]
     },
     "execution_count": 17,
     "metadata": {},
     "output_type": "execute_result"
    }
   ],
   "source": [
    "df18.shape"
   ]
  },
  {
   "cell_type": "markdown",
   "id": "78b0d6e3",
   "metadata": {},
   "source": [
    "# Gadget = Canon EOS 200D II 24.1MP Digital SLR Camera + EF-S 18-55mm f4 is STM Lens (Black)"
   ]
  },
  {
   "cell_type": "code",
   "execution_count": 18,
   "id": "a006211e",
   "metadata": {},
   "outputs": [],
   "source": [
    "driver.get('https://www.amazon.in/Canon-EOS-200D-II-Digital/product-reviews/B07RJWB548/ref=cm_cr_dp_d_show_all_btm?ie=UTF8&reviewerType=all_reviews')"
   ]
  },
  {
   "cell_type": "code",
   "execution_count": 19,
   "id": "cf7f2446",
   "metadata": {},
   "outputs": [],
   "source": [
    "Review19=[]\n",
    "Rating19=[]\n",
    "start=0\n",
    "end=30\n",
    "for page in range(start,end):\n",
    "    review=driver.find_elements(By.XPATH,'//span[@data-hook=\"review-body\"]')\n",
    "    for i in review:\n",
    "        Review19.append(i.text)\n",
    "    lst_of_ratings = driver.find_elements(By.CLASS_NAME, \"review-rating\")\n",
    "    for value in lst_of_ratings[2:]:\n",
    "        rating = value.get_attribute('textContent')\n",
    "        Rating19.append(rating)\n",
    "    driver.find_element(By.XPATH,\".//*[contains(text(),'Next page')]\").click()\n",
    "    time.sleep(3)"
   ]
  },
  {
   "cell_type": "code",
   "execution_count": 20,
   "id": "84773652",
   "metadata": {},
   "outputs": [],
   "source": [
    "Ratings19=[item.split('.',1)[0] for item in Rating19]"
   ]
  },
  {
   "cell_type": "code",
   "execution_count": 21,
   "id": "26831649",
   "metadata": {},
   "outputs": [
    {
     "data": {
      "text/html": [
       "<div>\n",
       "<style scoped>\n",
       "    .dataframe tbody tr th:only-of-type {\n",
       "        vertical-align: middle;\n",
       "    }\n",
       "\n",
       "    .dataframe tbody tr th {\n",
       "        vertical-align: top;\n",
       "    }\n",
       "\n",
       "    .dataframe thead th {\n",
       "        text-align: right;\n",
       "    }\n",
       "</style>\n",
       "<table border=\"1\" class=\"dataframe\">\n",
       "  <thead>\n",
       "    <tr style=\"text-align: right;\">\n",
       "      <th></th>\n",
       "      <th>Review</th>\n",
       "      <th>Rating</th>\n",
       "    </tr>\n",
       "  </thead>\n",
       "  <tbody>\n",
       "    <tr>\n",
       "      <th>0</th>\n",
       "      <td>Good for beginners</td>\n",
       "      <td>4</td>\n",
       "    </tr>\n",
       "    <tr>\n",
       "      <th>1</th>\n",
       "      <td>Really good for the beginners to start there p...</td>\n",
       "      <td>4</td>\n",
       "    </tr>\n",
       "    <tr>\n",
       "      <th>2</th>\n",
       "      <td>This one is good for beginners. I captured man...</td>\n",
       "      <td>5</td>\n",
       "    </tr>\n",
       "    <tr>\n",
       "      <th>3</th>\n",
       "      <td>Good one</td>\n",
       "      <td>5</td>\n",
       "    </tr>\n",
       "    <tr>\n",
       "      <th>4</th>\n",
       "      <td>Overall Amazing performance.\\nGreat for beginn...</td>\n",
       "      <td>4</td>\n",
       "    </tr>\n",
       "    <tr>\n",
       "      <th>...</th>\n",
       "      <td>...</td>\n",
       "      <td>...</td>\n",
       "    </tr>\n",
       "    <tr>\n",
       "      <th>295</th>\n",
       "      <td>Charger is not working &amp; both of 2 battery com...</td>\n",
       "      <td>1</td>\n",
       "    </tr>\n",
       "    <tr>\n",
       "      <th>296</th>\n",
       "      <td>No SD card</td>\n",
       "      <td>1</td>\n",
       "    </tr>\n",
       "    <tr>\n",
       "      <th>297</th>\n",
       "      <td>Very costly and delivered with only one lense</td>\n",
       "      <td>1</td>\n",
       "    </tr>\n",
       "    <tr>\n",
       "      <th>298</th>\n",
       "      <td>I was a nice camera and great photography and ...</td>\n",
       "      <td>5</td>\n",
       "    </tr>\n",
       "    <tr>\n",
       "      <th>299</th>\n",
       "      <td>Yeah 😂 I'm happy but dilevery boy is so funny ...</td>\n",
       "      <td>3</td>\n",
       "    </tr>\n",
       "  </tbody>\n",
       "</table>\n",
       "<p>300 rows × 2 columns</p>\n",
       "</div>"
      ],
      "text/plain": [
       "                                                Review Rating\n",
       "0                                   Good for beginners      4\n",
       "1    Really good for the beginners to start there p...      4\n",
       "2    This one is good for beginners. I captured man...      5\n",
       "3                                             Good one      5\n",
       "4    Overall Amazing performance.\\nGreat for beginn...      4\n",
       "..                                                 ...    ...\n",
       "295  Charger is not working & both of 2 battery com...      1\n",
       "296                                         No SD card      1\n",
       "297      Very costly and delivered with only one lense      1\n",
       "298  I was a nice camera and great photography and ...      5\n",
       "299  Yeah 😂 I'm happy but dilevery boy is so funny ...      3\n",
       "\n",
       "[300 rows x 2 columns]"
      ]
     },
     "execution_count": 21,
     "metadata": {},
     "output_type": "execute_result"
    }
   ],
   "source": [
    "df19=pd.DataFrame({'Review':Review19,'Rating':Ratings19})\n",
    "df19"
   ]
  },
  {
   "cell_type": "code",
   "execution_count": 22,
   "id": "efa80638",
   "metadata": {},
   "outputs": [
    {
     "data": {
      "text/plain": [
       "(300, 2)"
      ]
     },
     "execution_count": 22,
     "metadata": {},
     "output_type": "execute_result"
    }
   ],
   "source": [
    "df19.shape"
   ]
  },
  {
   "cell_type": "markdown",
   "id": "69532ee8",
   "metadata": {},
   "source": [
    "# Gadget = Panasonic LUMIX G7 16.00 MP 4K Mirrorless Interchangeable Lens Camera Kit with 14-42 mm Lens (Black)"
   ]
  },
  {
   "cell_type": "code",
   "execution_count": 23,
   "id": "72f7fdc0",
   "metadata": {},
   "outputs": [],
   "source": [
    "driver.get('https://www.amazon.in/Panasonic-DMC-G7KGW-K-Mirrorless-Camera-Black/product-reviews/B07JLXC5BR/ref=cm_cr_dp_d_show_all_btm?ie=UTF8&reviewerType=all_reviews')"
   ]
  },
  {
   "cell_type": "code",
   "execution_count": 24,
   "id": "7ae03fc0",
   "metadata": {},
   "outputs": [],
   "source": [
    "Review20=[]\n",
    "Rating20=[]\n",
    "start=0\n",
    "end=15\n",
    "for page in range(start,end):\n",
    "    review=driver.find_elements(By.XPATH,'//span[@data-hook=\"review-body\"]')\n",
    "    for i in review:\n",
    "        Review20.append(i.text)\n",
    "    lst_of_ratings = driver.find_elements(By.CLASS_NAME, \"review-rating\")\n",
    "    for value in lst_of_ratings[2:]:\n",
    "        rating = value.get_attribute('textContent')\n",
    "        Rating20.append(rating)\n",
    "    driver.find_element(By.XPATH,\".//*[contains(text(),'Next page')]\").click()\n",
    "    time.sleep(3)"
   ]
  },
  {
   "cell_type": "code",
   "execution_count": 25,
   "id": "311e6938",
   "metadata": {},
   "outputs": [],
   "source": [
    "Ratings20=[item.split('.',1)[0] for item in Rating20]"
   ]
  },
  {
   "cell_type": "code",
   "execution_count": 26,
   "id": "1f5c2d49",
   "metadata": {},
   "outputs": [
    {
     "data": {
      "text/html": [
       "<div>\n",
       "<style scoped>\n",
       "    .dataframe tbody tr th:only-of-type {\n",
       "        vertical-align: middle;\n",
       "    }\n",
       "\n",
       "    .dataframe tbody tr th {\n",
       "        vertical-align: top;\n",
       "    }\n",
       "\n",
       "    .dataframe thead th {\n",
       "        text-align: right;\n",
       "    }\n",
       "</style>\n",
       "<table border=\"1\" class=\"dataframe\">\n",
       "  <thead>\n",
       "    <tr style=\"text-align: right;\">\n",
       "      <th></th>\n",
       "      <th>Review</th>\n",
       "      <th>Rating</th>\n",
       "    </tr>\n",
       "  </thead>\n",
       "  <tbody>\n",
       "    <tr>\n",
       "      <th>0</th>\n",
       "      <td>Product is very good, this one is the best for...</td>\n",
       "      <td>5</td>\n",
       "    </tr>\n",
       "    <tr>\n",
       "      <th>1</th>\n",
       "      <td>The above-compressed Images were taken handhel...</td>\n",
       "      <td>4</td>\n",
       "    </tr>\n",
       "    <tr>\n",
       "      <th>2</th>\n",
       "      <td></td>\n",
       "      <td>4</td>\n",
       "    </tr>\n",
       "    <tr>\n",
       "      <th>3</th>\n",
       "      <td>this camra is best for beginners. value for mo...</td>\n",
       "      <td>5</td>\n",
       "    </tr>\n",
       "    <tr>\n",
       "      <th>4</th>\n",
       "      <td>It's a best camera for the individuals who is ...</td>\n",
       "      <td>4</td>\n",
       "    </tr>\n",
       "    <tr>\n",
       "      <th>...</th>\n",
       "      <td>...</td>\n",
       "      <td>...</td>\n",
       "    </tr>\n",
       "    <tr>\n",
       "      <th>141</th>\n",
       "      <td>G7 is the best at the entry level segment with...</td>\n",
       "      <td>4</td>\n",
       "    </tr>\n",
       "    <tr>\n",
       "      <th>142</th>\n",
       "      <td>Budget best 4k camera. Must buy this</td>\n",
       "      <td>5</td>\n",
       "    </tr>\n",
       "    <tr>\n",
       "      <th>143</th>\n",
       "      <td>Very good for beginners in videography and pho...</td>\n",
       "      <td>5</td>\n",
       "    </tr>\n",
       "    <tr>\n",
       "      <th>144</th>\n",
       "      <td>This is my dream 🥰 DSLR NO MONEY\\nThis is my d...</td>\n",
       "      <td>5</td>\n",
       "    </tr>\n",
       "    <tr>\n",
       "      <th>145</th>\n",
       "      <td>This is the perfect camera for videographers</td>\n",
       "      <td>5</td>\n",
       "    </tr>\n",
       "  </tbody>\n",
       "</table>\n",
       "<p>146 rows × 2 columns</p>\n",
       "</div>"
      ],
      "text/plain": [
       "                                                Review Rating\n",
       "0    Product is very good, this one is the best for...      5\n",
       "1    The above-compressed Images were taken handhel...      4\n",
       "2                                                           4\n",
       "3    this camra is best for beginners. value for mo...      5\n",
       "4    It's a best camera for the individuals who is ...      4\n",
       "..                                                 ...    ...\n",
       "141  G7 is the best at the entry level segment with...      4\n",
       "142               Budget best 4k camera. Must buy this      5\n",
       "143  Very good for beginners in videography and pho...      5\n",
       "144  This is my dream 🥰 DSLR NO MONEY\\nThis is my d...      5\n",
       "145       This is the perfect camera for videographers      5\n",
       "\n",
       "[146 rows x 2 columns]"
      ]
     },
     "execution_count": 26,
     "metadata": {},
     "output_type": "execute_result"
    }
   ],
   "source": [
    "df20=pd.DataFrame({'Review':Review20,'Rating':Ratings20})\n",
    "df20"
   ]
  },
  {
   "cell_type": "code",
   "execution_count": 27,
   "id": "d77b3995",
   "metadata": {},
   "outputs": [
    {
     "data": {
      "text/plain": [
       "(146, 2)"
      ]
     },
     "execution_count": 27,
     "metadata": {},
     "output_type": "execute_result"
    }
   ],
   "source": [
    "df20.shape"
   ]
  },
  {
   "cell_type": "markdown",
   "id": "4a887135",
   "metadata": {},
   "source": [
    "# Gadget = Redmi 80 cm (32 inches) Android 11 Series HD Ready Smart LED TV | L32M6-RA/L32M7-RA (Black)"
   ]
  },
  {
   "cell_type": "code",
   "execution_count": 36,
   "id": "1961700b",
   "metadata": {},
   "outputs": [],
   "source": [
    "driver=webdriver.Chrome(r\"C:\\Users\\91994\\Desktop\\DRiver\\chromedriver.exe\")"
   ]
  },
  {
   "cell_type": "code",
   "execution_count": 37,
   "id": "6d72dc45",
   "metadata": {},
   "outputs": [],
   "source": [
    "driver.get('https://www.amazon.in/Redmi-inches-Ready-L32M6-RA-Android/product-reviews/B09F9YQQ7B/ref=cm_cr_dp_d_show_all_btm?ie=UTF8&reviewerType=all_reviews')"
   ]
  },
  {
   "cell_type": "code",
   "execution_count": 38,
   "id": "96176d3e",
   "metadata": {},
   "outputs": [],
   "source": [
    "Review21=[]\n",
    "Rating21=[]\n",
    "start=0\n",
    "end=100\n",
    "for page in range(start,end):\n",
    "    review=driver.find_elements(By.XPATH,'//span[@data-hook=\"review-body\"]')\n",
    "    for i in review:\n",
    "        Review21.append(i.text)\n",
    "    lst_of_ratings = driver.find_elements(By.CLASS_NAME, \"review-rating\")\n",
    "    for value in lst_of_ratings[2:]:\n",
    "        rating = value.get_attribute('textContent')\n",
    "        Rating21.append(rating)\n",
    "    driver.find_element(By.XPATH,\".//*[contains(text(),'Next page')]\").click()\n",
    "    time.sleep(3)"
   ]
  },
  {
   "cell_type": "code",
   "execution_count": 39,
   "id": "00cece19",
   "metadata": {},
   "outputs": [],
   "source": [
    "Ratings21=[item.split('.',1)[0] for item in Rating21]"
   ]
  },
  {
   "cell_type": "code",
   "execution_count": 40,
   "id": "0f779a72",
   "metadata": {},
   "outputs": [
    {
     "data": {
      "text/html": [
       "<div>\n",
       "<style scoped>\n",
       "    .dataframe tbody tr th:only-of-type {\n",
       "        vertical-align: middle;\n",
       "    }\n",
       "\n",
       "    .dataframe tbody tr th {\n",
       "        vertical-align: top;\n",
       "    }\n",
       "\n",
       "    .dataframe thead th {\n",
       "        text-align: right;\n",
       "    }\n",
       "</style>\n",
       "<table border=\"1\" class=\"dataframe\">\n",
       "  <thead>\n",
       "    <tr style=\"text-align: right;\">\n",
       "      <th></th>\n",
       "      <th>Review</th>\n",
       "      <th>Rating</th>\n",
       "    </tr>\n",
       "  </thead>\n",
       "  <tbody>\n",
       "    <tr>\n",
       "      <th>0</th>\n",
       "      <td>Overall a good TV but majority of the apps tha...</td>\n",
       "      <td>4</td>\n",
       "    </tr>\n",
       "    <tr>\n",
       "      <th>1</th>\n",
       "      <td>I purchased this 32\" Mi Tv on 25 July 2022 go...</td>\n",
       "      <td>4</td>\n",
       "    </tr>\n",
       "    <tr>\n",
       "      <th>2</th>\n",
       "      <td>If you want to purchase this Redmi tv. Go for ...</td>\n",
       "      <td>4</td>\n",
       "    </tr>\n",
       "    <tr>\n",
       "      <th>3</th>\n",
       "      <td>I purchased this redmitv after comparing with...</td>\n",
       "      <td>4</td>\n",
       "    </tr>\n",
       "    <tr>\n",
       "      <th>4</th>\n",
       "      <td>I am writing this after using for it for more ...</td>\n",
       "      <td>4</td>\n",
       "    </tr>\n",
       "    <tr>\n",
       "      <th>...</th>\n",
       "      <td>...</td>\n",
       "      <td>...</td>\n",
       "    </tr>\n",
       "    <tr>\n",
       "      <th>995</th>\n",
       "      <td>Good</td>\n",
       "      <td>5</td>\n",
       "    </tr>\n",
       "    <tr>\n",
       "      <th>996</th>\n",
       "      <td>Nice picture and sound quality and quick deliv...</td>\n",
       "      <td>5</td>\n",
       "    </tr>\n",
       "    <tr>\n",
       "      <th>997</th>\n",
       "      <td>Nice aitem</td>\n",
       "      <td>5</td>\n",
       "    </tr>\n",
       "    <tr>\n",
       "      <th>998</th>\n",
       "      <td>It's bit slow when mirror my mobile to tv</td>\n",
       "      <td>5</td>\n",
       "    </tr>\n",
       "    <tr>\n",
       "      <th>999</th>\n",
       "      <td>Worth buying this LED TV</td>\n",
       "      <td>4</td>\n",
       "    </tr>\n",
       "  </tbody>\n",
       "</table>\n",
       "<p>1000 rows × 2 columns</p>\n",
       "</div>"
      ],
      "text/plain": [
       "                                                Review Rating\n",
       "0    Overall a good TV but majority of the apps tha...      4\n",
       "1     I purchased this 32\" Mi Tv on 25 July 2022 go...      4\n",
       "2    If you want to purchase this Redmi tv. Go for ...      4\n",
       "3     I purchased this redmitv after comparing with...      4\n",
       "4    I am writing this after using for it for more ...      4\n",
       "..                                                 ...    ...\n",
       "995                                               Good      5\n",
       "996  Nice picture and sound quality and quick deliv...      5\n",
       "997                                         Nice aitem      5\n",
       "998          It's bit slow when mirror my mobile to tv      5\n",
       "999                           Worth buying this LED TV      4\n",
       "\n",
       "[1000 rows x 2 columns]"
      ]
     },
     "execution_count": 40,
     "metadata": {},
     "output_type": "execute_result"
    }
   ],
   "source": [
    "df21=pd.DataFrame({'Review':Review21,'Rating':Ratings21})\n",
    "df21"
   ]
  },
  {
   "cell_type": "code",
   "execution_count": 41,
   "id": "1003e24a",
   "metadata": {},
   "outputs": [
    {
     "data": {
      "text/plain": [
       "(1000, 2)"
      ]
     },
     "execution_count": 41,
     "metadata": {},
     "output_type": "execute_result"
    }
   ],
   "source": [
    "df21.shape"
   ]
  },
  {
   "cell_type": "code",
   "execution_count": 42,
   "id": "1366cf11",
   "metadata": {},
   "outputs": [],
   "source": [
    "driver.close()"
   ]
  },
  {
   "cell_type": "markdown",
   "id": "ad5a6b40",
   "metadata": {},
   "source": [
    "# Gadget = Samsung 80 cm (32 Inches) Wondertainment Series HD Ready LED Smart TV"
   ]
  },
  {
   "cell_type": "code",
   "execution_count": 43,
   "id": "50ba274d",
   "metadata": {},
   "outputs": [],
   "source": [
    "driver=webdriver.Chrome(r\"C:\\Users\\91994\\Desktop\\DRiver\\chromedriver.exe\")"
   ]
  },
  {
   "cell_type": "code",
   "execution_count": 44,
   "id": "59a48bd1",
   "metadata": {},
   "outputs": [],
   "source": [
    "driver.get('https://www.amazon.in/Samsung-Inches-Wondertainment-UA32T4340BKXXL-Glossy/product-reviews/B09F6S8BT6/ref=cm_cr_dp_d_show_all_btm?ie=UTF8&reviewerType=all_reviews')"
   ]
  },
  {
   "cell_type": "code",
   "execution_count": 45,
   "id": "2ab76463",
   "metadata": {},
   "outputs": [],
   "source": [
    "Review22=[]\n",
    "Rating22=[]\n",
    "start=0\n",
    "end=150\n",
    "for page in range(start,end):\n",
    "    review=driver.find_elements(By.XPATH,'//span[@data-hook=\"review-body\"]')\n",
    "    for i in review:\n",
    "        Review22.append(i.text)\n",
    "    lst_of_ratings = driver.find_elements(By.CLASS_NAME, \"review-rating\")\n",
    "    for value in lst_of_ratings[2:]:\n",
    "        rating = value.get_attribute('textContent')\n",
    "        Rating22.append(rating)\n",
    "    driver.find_element(By.XPATH,\".//*[contains(text(),'Next page')]\").click()\n",
    "    time.sleep(3)"
   ]
  },
  {
   "cell_type": "code",
   "execution_count": 46,
   "id": "9ad12eb7",
   "metadata": {},
   "outputs": [],
   "source": [
    "Ratings22=[item.split('.',1)[0] for item in Rating22]"
   ]
  },
  {
   "cell_type": "code",
   "execution_count": 47,
   "id": "28933a42",
   "metadata": {},
   "outputs": [
    {
     "data": {
      "text/html": [
       "<div>\n",
       "<style scoped>\n",
       "    .dataframe tbody tr th:only-of-type {\n",
       "        vertical-align: middle;\n",
       "    }\n",
       "\n",
       "    .dataframe tbody tr th {\n",
       "        vertical-align: top;\n",
       "    }\n",
       "\n",
       "    .dataframe thead th {\n",
       "        text-align: right;\n",
       "    }\n",
       "</style>\n",
       "<table border=\"1\" class=\"dataframe\">\n",
       "  <thead>\n",
       "    <tr style=\"text-align: right;\">\n",
       "      <th></th>\n",
       "      <th>Review</th>\n",
       "      <th>Rating</th>\n",
       "    </tr>\n",
       "  </thead>\n",
       "  <tbody>\n",
       "    <tr>\n",
       "      <th>0</th>\n",
       "      <td>Table stand top missing very disappoint in dis...</td>\n",
       "      <td>4</td>\n",
       "    </tr>\n",
       "    <tr>\n",
       "      <th>1</th>\n",
       "      <td>All is well</td>\n",
       "      <td>4</td>\n",
       "    </tr>\n",
       "    <tr>\n",
       "      <th>2</th>\n",
       "      <td>Everything about this tv is good but the sound...</td>\n",
       "      <td>4</td>\n",
       "    </tr>\n",
       "    <tr>\n",
       "      <th>3</th>\n",
       "      <td>Good smart tv</td>\n",
       "      <td>4</td>\n",
       "    </tr>\n",
       "    <tr>\n",
       "      <th>4</th>\n",
       "      <td>HDMI CABLE WAS DAMAGE</td>\n",
       "      <td>4</td>\n",
       "    </tr>\n",
       "    <tr>\n",
       "      <th>...</th>\n",
       "      <td>...</td>\n",
       "      <td>...</td>\n",
       "    </tr>\n",
       "    <tr>\n",
       "      <th>1495</th>\n",
       "      <td>Good</td>\n",
       "      <td>3</td>\n",
       "    </tr>\n",
       "    <tr>\n",
       "      <th>1496</th>\n",
       "      <td>Very nice products</td>\n",
       "      <td>5</td>\n",
       "    </tr>\n",
       "    <tr>\n",
       "      <th>1497</th>\n",
       "      <td>SOUND SYSTEM WE OBSERVE AVAREGE ,PLEASE IMPROV...</td>\n",
       "      <td>5</td>\n",
       "    </tr>\n",
       "    <tr>\n",
       "      <th>1498</th>\n",
       "      <td>Very good quality sound and picture</td>\n",
       "      <td>5</td>\n",
       "    </tr>\n",
       "    <tr>\n",
       "      <th>1499</th>\n",
       "      <td>This product is worthy and an amazing</td>\n",
       "      <td>5</td>\n",
       "    </tr>\n",
       "  </tbody>\n",
       "</table>\n",
       "<p>1500 rows × 2 columns</p>\n",
       "</div>"
      ],
      "text/plain": [
       "                                                 Review Rating\n",
       "0     Table stand top missing very disappoint in dis...      4\n",
       "1                                           All is well      4\n",
       "2     Everything about this tv is good but the sound...      4\n",
       "3                                         Good smart tv      4\n",
       "4                                 HDMI CABLE WAS DAMAGE      4\n",
       "...                                                 ...    ...\n",
       "1495                                               Good      3\n",
       "1496                                 Very nice products      5\n",
       "1497  SOUND SYSTEM WE OBSERVE AVAREGE ,PLEASE IMPROV...      5\n",
       "1498                Very good quality sound and picture      5\n",
       "1499              This product is worthy and an amazing      5\n",
       "\n",
       "[1500 rows x 2 columns]"
      ]
     },
     "execution_count": 47,
     "metadata": {},
     "output_type": "execute_result"
    }
   ],
   "source": [
    "df22=pd.DataFrame({'Review':Review22,'Rating':Ratings22})\n",
    "df22"
   ]
  },
  {
   "cell_type": "code",
   "execution_count": 48,
   "id": "7260c45b",
   "metadata": {},
   "outputs": [
    {
     "data": {
      "text/plain": [
       "(1500, 2)"
      ]
     },
     "execution_count": 48,
     "metadata": {},
     "output_type": "execute_result"
    }
   ],
   "source": [
    "df22.shape"
   ]
  },
  {
   "cell_type": "code",
   "execution_count": 50,
   "id": "3a5f5955",
   "metadata": {},
   "outputs": [
    {
     "data": {
      "text/plain": [
       "(4201, 2)"
      ]
     },
     "execution_count": 50,
     "metadata": {},
     "output_type": "execute_result"
    }
   ],
   "source": [
    "Final_df3=pd.concat([df16,df17,df18,df19,df20,df21,df22], axis=0)\n",
    "Final_df3.shape"
   ]
  },
  {
   "cell_type": "code",
   "execution_count": 51,
   "id": "daa2a46d",
   "metadata": {},
   "outputs": [],
   "source": [
    "Final_df3.to_csv('Ratings_final_df4.csv')"
   ]
  },
  {
   "cell_type": "code",
   "execution_count": null,
   "id": "1b867c53",
   "metadata": {},
   "outputs": [],
   "source": []
  },
  {
   "cell_type": "code",
   "execution_count": null,
   "id": "5a972a3a",
   "metadata": {},
   "outputs": [],
   "source": []
  },
  {
   "cell_type": "code",
   "execution_count": null,
   "id": "43a0defd",
   "metadata": {},
   "outputs": [],
   "source": []
  },
  {
   "cell_type": "code",
   "execution_count": null,
   "id": "188afc33",
   "metadata": {},
   "outputs": [],
   "source": []
  }
 ],
 "metadata": {
  "kernelspec": {
   "display_name": "Python 3 (ipykernel)",
   "language": "python",
   "name": "python3"
  },
  "language_info": {
   "codemirror_mode": {
    "name": "ipython",
    "version": 3
   },
   "file_extension": ".py",
   "mimetype": "text/x-python",
   "name": "python",
   "nbconvert_exporter": "python",
   "pygments_lexer": "ipython3",
   "version": "3.9.7"
  }
 },
 "nbformat": 4,
 "nbformat_minor": 5
}
